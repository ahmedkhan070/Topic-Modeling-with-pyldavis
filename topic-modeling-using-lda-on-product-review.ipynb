{
 "cells": [
  {
   "cell_type": "markdown",
   "id": "8e201067",
   "metadata": {
    "papermill": {
     "duration": 0.008312,
     "end_time": "2022-11-10T05:05:01.303750",
     "exception": false,
     "start_time": "2022-11-10T05:05:01.295438",
     "status": "completed"
    },
    "tags": []
   },
   "source": [
    "# Importing Libraries"
   ]
  },
  {
   "cell_type": "code",
   "execution_count": 1,
   "id": "d94eed5f",
   "metadata": {
    "papermill": {
     "duration": 15.207862,
     "end_time": "2022-11-10T05:05:16.520333",
     "exception": false,
     "start_time": "2022-11-10T05:05:01.312471",
     "status": "completed"
    },
    "tags": []
   },
   "outputs": [],
   "source": [
    "# import libraries  \n",
    "import numpy as np\n",
    "import pandas as pd\n",
    "import seaborn as sns\n",
    "import string\n",
    "import pprint\n",
    "\n",
    "import matplotlib.pyplot as plt\n",
    "%matplotlib inline\n",
    "\n",
    "# For lemmatisation\n",
    "import spacy          \n",
    "import nltk\n",
    "\n",
    "# gensim for LDA \n",
    "import gensim\n",
    "import gensim.corpora as corpora\n",
    "from gensim.utils import simple_preprocess\n",
    "from gensim.models import CoherenceModel\n",
    "\n",
    "# Plotting tools pyLDA visualization\n",
    "import pyLDAvis\n",
    "import pyLDAvis.gensim  \n",
    "#from pyLDAvis import gensim_models as pg\n",
    "\n",
    "# Ignore warning\n",
    "import warnings\n",
    "warnings.filterwarnings(\"ignore\",category=DeprecationWarning)"
   ]
  },
  {
   "cell_type": "markdown",
   "id": "22daa356-c681-4512-b247-c2e07bbb1ff4",
   "metadata": {},
   "source": [
    "# Checking Dataset"
   ]
  },
  {
   "cell_type": "code",
   "execution_count": 2,
   "id": "6799fec7",
   "metadata": {
    "papermill": {
     "duration": 0.83878,
     "end_time": "2022-11-10T05:05:17.367285",
     "exception": false,
     "start_time": "2022-11-10T05:05:16.528505",
     "status": "completed"
    },
    "tags": []
   },
   "outputs": [
    {
     "data": {
      "text/html": [
       "<div>\n",
       "<style scoped>\n",
       "    .dataframe tbody tr th:only-of-type {\n",
       "        vertical-align: middle;\n",
       "    }\n",
       "\n",
       "    .dataframe tbody tr th {\n",
       "        vertical-align: top;\n",
       "    }\n",
       "\n",
       "    .dataframe thead th {\n",
       "        text-align: right;\n",
       "    }\n",
       "</style>\n",
       "<table border=\"1\" class=\"dataframe\">\n",
       "  <thead>\n",
       "    <tr style=\"text-align: right;\">\n",
       "      <th></th>\n",
       "      <th>id</th>\n",
       "      <th>asins</th>\n",
       "      <th>brand</th>\n",
       "      <th>categories</th>\n",
       "      <th>colors</th>\n",
       "      <th>dateAdded</th>\n",
       "      <th>dateUpdated</th>\n",
       "      <th>dimension</th>\n",
       "      <th>ean</th>\n",
       "      <th>keys</th>\n",
       "      <th>...</th>\n",
       "      <th>reviews.rating</th>\n",
       "      <th>reviews.sourceURLs</th>\n",
       "      <th>reviews.text</th>\n",
       "      <th>reviews.title</th>\n",
       "      <th>reviews.userCity</th>\n",
       "      <th>reviews.userProvince</th>\n",
       "      <th>reviews.username</th>\n",
       "      <th>sizes</th>\n",
       "      <th>upc</th>\n",
       "      <th>weight</th>\n",
       "    </tr>\n",
       "  </thead>\n",
       "  <tbody>\n",
       "    <tr>\n",
       "      <th>3091</th>\n",
       "      <td>ACCFHGZFS7GB9CVM</td>\n",
       "      <td>NaN</td>\n",
       "      <td>Flipkart</td>\n",
       "      <td>Flipkart Headphone, Devices &amp; Accessories, Blu...</td>\n",
       "      <td>NaN</td>\n",
       "      <td>2019-07-02T14:40:43Z</td>\n",
       "      <td>2020-08-33T08:28:46Z</td>\n",
       "      <td>NaN</td>\n",
       "      <td>NaN</td>\n",
       "      <td>NaN</td>\n",
       "      <td>...</td>\n",
       "      <td>1.0</td>\n",
       "      <td>NaN</td>\n",
       "      <td>Mike prblm</td>\n",
       "      <td>Waste of money!</td>\n",
       "      <td>NaN</td>\n",
       "      <td>NaN</td>\n",
       "      <td>NaN</td>\n",
       "      <td>NaN</td>\n",
       "      <td>NaN</td>\n",
       "      <td>NaN</td>\n",
       "    </tr>\n",
       "    <tr>\n",
       "      <th>2751</th>\n",
       "      <td>ACCFHGZFS7GB9CVM</td>\n",
       "      <td>NaN</td>\n",
       "      <td>Flipkart</td>\n",
       "      <td>Flipkart Headphone, Devices &amp; Accessories, Blu...</td>\n",
       "      <td>NaN</td>\n",
       "      <td>2019-07-02T14:40:43Z</td>\n",
       "      <td>2020-08-33T08:28:46Z</td>\n",
       "      <td>NaN</td>\n",
       "      <td>NaN</td>\n",
       "      <td>NaN</td>\n",
       "      <td>...</td>\n",
       "      <td>5.0</td>\n",
       "      <td>NaN</td>\n",
       "      <td>This is an amazing product, the sound quality ...</td>\n",
       "      <td>Super!</td>\n",
       "      <td>NaN</td>\n",
       "      <td>NaN</td>\n",
       "      <td>NaN</td>\n",
       "      <td>NaN</td>\n",
       "      <td>NaN</td>\n",
       "      <td>NaN</td>\n",
       "    </tr>\n",
       "    <tr>\n",
       "      <th>9605</th>\n",
       "      <td>ACCFSDGXX3S6DVBG</td>\n",
       "      <td>NaN</td>\n",
       "      <td>Flipkart</td>\n",
       "      <td>Flipkart Headphone, Devices &amp; Accessories, Blu...</td>\n",
       "      <td>NaN</td>\n",
       "      <td>2019-07-02T14:40:43Z</td>\n",
       "      <td>2020-08-33T08:28:46Z</td>\n",
       "      <td>NaN</td>\n",
       "      <td>NaN</td>\n",
       "      <td>NaN</td>\n",
       "      <td>...</td>\n",
       "      <td>5.0</td>\n",
       "      <td>NaN</td>\n",
       "      <td>Not bad</td>\n",
       "      <td>Worth every penny</td>\n",
       "      <td>NaN</td>\n",
       "      <td>NaN</td>\n",
       "      <td>NaN</td>\n",
       "      <td>NaN</td>\n",
       "      <td>NaN</td>\n",
       "      <td>NaN</td>\n",
       "    </tr>\n",
       "    <tr>\n",
       "      <th>1900</th>\n",
       "      <td>ACCFZGAQJGYCYDCM</td>\n",
       "      <td>NaN</td>\n",
       "      <td>Flipkart</td>\n",
       "      <td>Flipkart Headphone, Devices &amp; Accessories, Blu...</td>\n",
       "      <td>NaN</td>\n",
       "      <td>2019-07-02T14:40:43Z</td>\n",
       "      <td>2020-08-33T08:28:46Z</td>\n",
       "      <td>NaN</td>\n",
       "      <td>NaN</td>\n",
       "      <td>NaN</td>\n",
       "      <td>...</td>\n",
       "      <td>5.0</td>\n",
       "      <td>NaN</td>\n",
       "      <td>Love it</td>\n",
       "      <td>Best in the market!</td>\n",
       "      <td>NaN</td>\n",
       "      <td>NaN</td>\n",
       "      <td>NaN</td>\n",
       "      <td>NaN</td>\n",
       "      <td>NaN</td>\n",
       "      <td>NaN</td>\n",
       "    </tr>\n",
       "    <tr>\n",
       "      <th>8372</th>\n",
       "      <td>ACCFSKBJYWZKXGCP</td>\n",
       "      <td>NaN</td>\n",
       "      <td>Flipkart</td>\n",
       "      <td>Flipkart Headphone, Devices &amp; Accessories, Blu...</td>\n",
       "      <td>NaN</td>\n",
       "      <td>2019-07-02T14:40:43Z</td>\n",
       "      <td>2020-08-33T08:28:46Z</td>\n",
       "      <td>NaN</td>\n",
       "      <td>NaN</td>\n",
       "      <td>NaN</td>\n",
       "      <td>...</td>\n",
       "      <td>5.0</td>\n",
       "      <td>NaN</td>\n",
       "      <td>Battery  backup is very good  😉 nice products 👍🙂</td>\n",
       "      <td>Fabulous!</td>\n",
       "      <td>NaN</td>\n",
       "      <td>NaN</td>\n",
       "      <td>NaN</td>\n",
       "      <td>NaN</td>\n",
       "      <td>NaN</td>\n",
       "      <td>NaN</td>\n",
       "    </tr>\n",
       "    <tr>\n",
       "      <th>6270</th>\n",
       "      <td>ACCFVA3KZ2EYMYX3</td>\n",
       "      <td>NaN</td>\n",
       "      <td>Flipkart</td>\n",
       "      <td>Flipkart Headphone, Devices &amp; Accessories, Blu...</td>\n",
       "      <td>NaN</td>\n",
       "      <td>2019-07-02T14:40:43Z</td>\n",
       "      <td>2020-08-33T08:28:46Z</td>\n",
       "      <td>NaN</td>\n",
       "      <td>NaN</td>\n",
       "      <td>NaN</td>\n",
       "      <td>...</td>\n",
       "      <td>5.0</td>\n",
       "      <td>NaN</td>\n",
       "      <td>Osm prodect</td>\n",
       "      <td>Super!</td>\n",
       "      <td>NaN</td>\n",
       "      <td>NaN</td>\n",
       "      <td>NaN</td>\n",
       "      <td>NaN</td>\n",
       "      <td>NaN</td>\n",
       "      <td>NaN</td>\n",
       "    </tr>\n",
       "    <tr>\n",
       "      <th>2193</th>\n",
       "      <td>ACCFZGAQJGYCYDCM</td>\n",
       "      <td>NaN</td>\n",
       "      <td>Flipkart</td>\n",
       "      <td>Flipkart Headphone, Devices &amp; Accessories, Blu...</td>\n",
       "      <td>NaN</td>\n",
       "      <td>2019-07-02T14:40:43Z</td>\n",
       "      <td>2020-08-33T08:28:46Z</td>\n",
       "      <td>NaN</td>\n",
       "      <td>NaN</td>\n",
       "      <td>NaN</td>\n",
       "      <td>...</td>\n",
       "      <td>4.0</td>\n",
       "      <td>NaN</td>\n",
       "      <td>Its a nice product can be used easily I loved ...</td>\n",
       "      <td>Nice product</td>\n",
       "      <td>NaN</td>\n",
       "      <td>NaN</td>\n",
       "      <td>NaN</td>\n",
       "      <td>NaN</td>\n",
       "      <td>NaN</td>\n",
       "      <td>NaN</td>\n",
       "    </tr>\n",
       "    <tr>\n",
       "      <th>5115</th>\n",
       "      <td>ACCFKYE2ARGG67WC</td>\n",
       "      <td>NaN</td>\n",
       "      <td>Flipkart</td>\n",
       "      <td>Flipkart Headphone, Devices &amp; Accessories, Blu...</td>\n",
       "      <td>NaN</td>\n",
       "      <td>2019-07-02T14:40:43Z</td>\n",
       "      <td>2020-08-33T08:28:46Z</td>\n",
       "      <td>NaN</td>\n",
       "      <td>NaN</td>\n",
       "      <td>NaN</td>\n",
       "      <td>...</td>\n",
       "      <td>5.0</td>\n",
       "      <td>NaN</td>\n",
       "      <td>it's not run by battery ... The sound and bass...</td>\n",
       "      <td>Classy product</td>\n",
       "      <td>NaN</td>\n",
       "      <td>NaN</td>\n",
       "      <td>NaN</td>\n",
       "      <td>NaN</td>\n",
       "      <td>NaN</td>\n",
       "      <td>NaN</td>\n",
       "    </tr>\n",
       "    <tr>\n",
       "      <th>2583</th>\n",
       "      <td>ACCFHGZFS7GB9CVM</td>\n",
       "      <td>NaN</td>\n",
       "      <td>Flipkart</td>\n",
       "      <td>Flipkart Headphone, Devices &amp; Accessories, Blu...</td>\n",
       "      <td>NaN</td>\n",
       "      <td>2019-07-02T14:40:43Z</td>\n",
       "      <td>2020-08-33T08:28:46Z</td>\n",
       "      <td>NaN</td>\n",
       "      <td>NaN</td>\n",
       "      <td>NaN</td>\n",
       "      <td>...</td>\n",
       "      <td>4.0</td>\n",
       "      <td>NaN</td>\n",
       "      <td>Pros-Very good battery backup(10hrs)          ...</td>\n",
       "      <td>Good choice</td>\n",
       "      <td>NaN</td>\n",
       "      <td>NaN</td>\n",
       "      <td>NaN</td>\n",
       "      <td>NaN</td>\n",
       "      <td>NaN</td>\n",
       "      <td>NaN</td>\n",
       "    </tr>\n",
       "    <tr>\n",
       "      <th>5823</th>\n",
       "      <td>ACCFVA3KZ2EYMYX3</td>\n",
       "      <td>NaN</td>\n",
       "      <td>Flipkart</td>\n",
       "      <td>Flipkart Headphone, Devices &amp; Accessories, Blu...</td>\n",
       "      <td>NaN</td>\n",
       "      <td>2019-07-02T14:40:43Z</td>\n",
       "      <td>2020-08-33T08:28:46Z</td>\n",
       "      <td>NaN</td>\n",
       "      <td>NaN</td>\n",
       "      <td>NaN</td>\n",
       "      <td>...</td>\n",
       "      <td>1.0</td>\n",
       "      <td>NaN</td>\n",
       "      <td>Horrible experience please don't buy this prod...</td>\n",
       "      <td>Did not meet expectations</td>\n",
       "      <td>NaN</td>\n",
       "      <td>NaN</td>\n",
       "      <td>NaN</td>\n",
       "      <td>NaN</td>\n",
       "      <td>NaN</td>\n",
       "      <td>NaN</td>\n",
       "    </tr>\n",
       "  </tbody>\n",
       "</table>\n",
       "<p>10 rows × 27 columns</p>\n",
       "</div>"
      ],
      "text/plain": [
       "                    id asins     brand  \\\n",
       "3091  ACCFHGZFS7GB9CVM   NaN  Flipkart   \n",
       "2751  ACCFHGZFS7GB9CVM   NaN  Flipkart   \n",
       "9605  ACCFSDGXX3S6DVBG   NaN  Flipkart   \n",
       "1900  ACCFZGAQJGYCYDCM   NaN  Flipkart   \n",
       "8372  ACCFSKBJYWZKXGCP   NaN  Flipkart   \n",
       "6270  ACCFVA3KZ2EYMYX3   NaN  Flipkart   \n",
       "2193  ACCFZGAQJGYCYDCM   NaN  Flipkart   \n",
       "5115  ACCFKYE2ARGG67WC   NaN  Flipkart   \n",
       "2583  ACCFHGZFS7GB9CVM   NaN  Flipkart   \n",
       "5823  ACCFVA3KZ2EYMYX3   NaN  Flipkart   \n",
       "\n",
       "                                             categories colors  \\\n",
       "3091  Flipkart Headphone, Devices & Accessories, Blu...    NaN   \n",
       "2751  Flipkart Headphone, Devices & Accessories, Blu...    NaN   \n",
       "9605  Flipkart Headphone, Devices & Accessories, Blu...    NaN   \n",
       "1900  Flipkart Headphone, Devices & Accessories, Blu...    NaN   \n",
       "8372  Flipkart Headphone, Devices & Accessories, Blu...    NaN   \n",
       "6270  Flipkart Headphone, Devices & Accessories, Blu...    NaN   \n",
       "2193  Flipkart Headphone, Devices & Accessories, Blu...    NaN   \n",
       "5115  Flipkart Headphone, Devices & Accessories, Blu...    NaN   \n",
       "2583  Flipkart Headphone, Devices & Accessories, Blu...    NaN   \n",
       "5823  Flipkart Headphone, Devices & Accessories, Blu...    NaN   \n",
       "\n",
       "                 dateAdded           dateUpdated dimension  ean keys  ...  \\\n",
       "3091  2019-07-02T14:40:43Z  2020-08-33T08:28:46Z       NaN  NaN  NaN  ...   \n",
       "2751  2019-07-02T14:40:43Z  2020-08-33T08:28:46Z       NaN  NaN  NaN  ...   \n",
       "9605  2019-07-02T14:40:43Z  2020-08-33T08:28:46Z       NaN  NaN  NaN  ...   \n",
       "1900  2019-07-02T14:40:43Z  2020-08-33T08:28:46Z       NaN  NaN  NaN  ...   \n",
       "8372  2019-07-02T14:40:43Z  2020-08-33T08:28:46Z       NaN  NaN  NaN  ...   \n",
       "6270  2019-07-02T14:40:43Z  2020-08-33T08:28:46Z       NaN  NaN  NaN  ...   \n",
       "2193  2019-07-02T14:40:43Z  2020-08-33T08:28:46Z       NaN  NaN  NaN  ...   \n",
       "5115  2019-07-02T14:40:43Z  2020-08-33T08:28:46Z       NaN  NaN  NaN  ...   \n",
       "2583  2019-07-02T14:40:43Z  2020-08-33T08:28:46Z       NaN  NaN  NaN  ...   \n",
       "5823  2019-07-02T14:40:43Z  2020-08-33T08:28:46Z       NaN  NaN  NaN  ...   \n",
       "\n",
       "     reviews.rating reviews.sourceURLs  \\\n",
       "3091            1.0                NaN   \n",
       "2751            5.0                NaN   \n",
       "9605            5.0                NaN   \n",
       "1900            5.0                NaN   \n",
       "8372            5.0                NaN   \n",
       "6270            5.0                NaN   \n",
       "2193            4.0                NaN   \n",
       "5115            5.0                NaN   \n",
       "2583            4.0                NaN   \n",
       "5823            1.0                NaN   \n",
       "\n",
       "                                           reviews.text  \\\n",
       "3091                                         Mike prblm   \n",
       "2751  This is an amazing product, the sound quality ...   \n",
       "9605                                            Not bad   \n",
       "1900                                            Love it   \n",
       "8372   Battery  backup is very good  😉 nice products 👍🙂   \n",
       "6270                                        Osm prodect   \n",
       "2193  Its a nice product can be used easily I loved ...   \n",
       "5115  it's not run by battery ... The sound and bass...   \n",
       "2583  Pros-Very good battery backup(10hrs)          ...   \n",
       "5823  Horrible experience please don't buy this prod...   \n",
       "\n",
       "                  reviews.title reviews.userCity reviews.userProvince  \\\n",
       "3091            Waste of money!              NaN                  NaN   \n",
       "2751                     Super!              NaN                  NaN   \n",
       "9605          Worth every penny              NaN                  NaN   \n",
       "1900        Best in the market!              NaN                  NaN   \n",
       "8372                  Fabulous!              NaN                  NaN   \n",
       "6270                     Super!              NaN                  NaN   \n",
       "2193               Nice product              NaN                  NaN   \n",
       "5115             Classy product              NaN                  NaN   \n",
       "2583                Good choice              NaN                  NaN   \n",
       "5823  Did not meet expectations              NaN                  NaN   \n",
       "\n",
       "      reviews.username  sizes upc weight  \n",
       "3091               NaN    NaN NaN    NaN  \n",
       "2751               NaN    NaN NaN    NaN  \n",
       "9605               NaN    NaN NaN    NaN  \n",
       "1900               NaN    NaN NaN    NaN  \n",
       "8372               NaN    NaN NaN    NaN  \n",
       "6270               NaN    NaN NaN    NaN  \n",
       "2193               NaN    NaN NaN    NaN  \n",
       "5115               NaN    NaN NaN    NaN  \n",
       "2583               NaN    NaN NaN    NaN  \n",
       "5823               NaN    NaN NaN    NaN  \n",
       "\n",
       "[10 rows x 27 columns]"
      ]
     },
     "execution_count": 2,
     "metadata": {},
     "output_type": "execute_result"
    }
   ],
   "source": [
    "df = pd.read_csv('Product Review Large Data.csv')\n",
    "df.sample(10)"
   ]
  },
  {
   "cell_type": "code",
   "execution_count": 23,
   "id": "6b8f5d5c-748e-4f7f-a781-c9c7a87a0ebe",
   "metadata": {},
   "outputs": [
    {
     "name": "stdout",
     "output_type": "stream",
     "text": [
      "<class 'pandas.core.frame.DataFrame'>\n",
      "RangeIndex: 10971 entries, 0 to 10970\n",
      "Data columns (total 27 columns):\n",
      " #   Column                Non-Null Count  Dtype  \n",
      "---  ------                --------------  -----  \n",
      " 0   id                    10971 non-null  object \n",
      " 1   asins                 1597 non-null   object \n",
      " 2   brand                 10971 non-null  object \n",
      " 3   categories            10971 non-null  object \n",
      " 4   colors                774 non-null    object \n",
      " 5   dateAdded             10971 non-null  object \n",
      " 6   dateUpdated           10971 non-null  object \n",
      " 7   dimension             565 non-null    object \n",
      " 8   ean                   898 non-null    float64\n",
      " 9   keys                  1597 non-null   object \n",
      " 10  manufacturer          965 non-null    object \n",
      " 11  manufacturerNumber    902 non-null    object \n",
      " 12  name                  1597 non-null   object \n",
      " 13  prices                1597 non-null   object \n",
      " 14  reviews.date          1217 non-null   object \n",
      " 15  reviews.doRecommend   539 non-null    object \n",
      " 16  reviews.numHelpful    900 non-null    float64\n",
      " 17  reviews.rating        10551 non-null  float64\n",
      " 18  reviews.sourceURLs    1597 non-null   object \n",
      " 19  reviews.text          10971 non-null  object \n",
      " 20  reviews.title         10954 non-null  object \n",
      " 21  reviews.userCity      97 non-null     object \n",
      " 22  reviews.userProvince  0 non-null      float64\n",
      " 23  reviews.username      1580 non-null   object \n",
      " 24  sizes                 0 non-null      float64\n",
      " 25  upc                   898 non-null    float64\n",
      " 26  weight                686 non-null    object \n",
      "dtypes: float64(6), object(21)\n",
      "memory usage: 2.3+ MB\n"
     ]
    }
   ],
   "source": [
    "df.info()"
   ]
  },
  {
   "cell_type": "code",
   "execution_count": 3,
   "id": "7405df5d",
   "metadata": {
    "papermill": {
     "duration": 0.022778,
     "end_time": "2022-11-10T05:05:17.398783",
     "exception": false,
     "start_time": "2022-11-10T05:05:17.376005",
     "status": "completed"
    },
    "tags": []
   },
   "outputs": [
    {
     "name": "stdout",
     "output_type": "stream",
     "text": [
      "(10971, 27)\n"
     ]
    }
   ],
   "source": [
    "print(df.shape)"
   ]
  },
  {
   "cell_type": "markdown",
   "id": "b25e74b5",
   "metadata": {
    "papermill": {
     "duration": 0.008884,
     "end_time": "2022-11-10T05:05:17.416686",
     "exception": false,
     "start_time": "2022-11-10T05:05:17.407802",
     "status": "completed"
    },
    "tags": []
   },
   "source": [
    "# Preprocessing\n",
    "\n",
    "1. Tokenize each review (using gensim)\n",
    "2. Remove stop words (including punctuations)\n",
    "3. Lemmatize (using spacy)"
   ]
  },
  {
   "cell_type": "code",
   "execution_count": 4,
   "id": "92e518f7",
   "metadata": {
    "papermill": {
     "duration": 0.633599,
     "end_time": "2022-11-10T05:05:18.058955",
     "exception": false,
     "start_time": "2022-11-10T05:05:17.425356",
     "status": "completed"
    },
    "scrolled": true,
    "tags": []
   },
   "outputs": [],
   "source": [
    "# tokenize using gensim simple_preprocess\n",
    "def sent_to_words(sentences, deacc=True): # deacc=True removes punctuations\n",
    "    for sentence in sentences:\n",
    "        yield(gensim.utils.simple_preprocess(str(sentence)))  \n",
    "\n",
    "# to list\n",
    "data = df['reviews.text'].values.tolist()\n",
    "data_words = list(sent_to_words(data))"
   ]
  },
  {
   "cell_type": "code",
   "execution_count": 8,
   "id": "20b6fcf7",
   "metadata": {
    "papermill": {
     "duration": 0.024307,
     "end_time": "2022-11-10T05:05:18.092265",
     "exception": false,
     "start_time": "2022-11-10T05:05:18.067958",
     "status": "completed"
    },
    "tags": []
   },
   "outputs": [
    {
     "name": "stdout",
     "output_type": "stream",
     "text": [
      "['bought', 'one', 'of', 'the', 'first', 'paperwhites', 'and', 'have', 'been', 'very', 'pleased', 'with', 'it', 'its', 'been', 'constant', 'companion', 'and', 'suppose', 'ive', 'read', 'on', 'average', 'book', 'every', 'three', 'days', 'for', 'the', 'past', 'however', 'many', 'years', 'on', 'it', 'wouldnt', 'give', 'it', 'up', 'youd', 'have', 'to', 'pry', 'it', 'from', 'my', 'cold', 'dead', 'fingers', 'for', 'sundry', 'logistical', 'reasons', 'ive', 'also', 'made', 'good', 'use', 'of', 'amazons', 'kindle', 'app', 'on', 'my', 'iphone', 'no', 'paperwhite', 'screen', 'naturally', 'and', 'all', 'the', 'cool', 'usability', 'that', 'delivers', 'but', 'it', 'works', 'well', 'and', 'has', 'its', 'own', 'attractions', 'as', 'companion', 'to', 'the', 'kindle', 'of', 'course', 'there', 'are', 'aspects', 'of', 'the', 'paperwhite', 'which', 'would', 'like', 'to', 'critique', 'ah', 'you', 'knew', 'that', 'was', 'coming', 'somewhere', 'didnt', 'you', 'as', 'member', 'of', 'bookbub', 'get', 'daily', 'list', 'of', 'alerts', 'and', 'book', 'deals', 'in', 'my', 'chosen', 'genres', 'take', 'on', 'many', 'of', 'them', 'however', 'ive', 'found', 'that', 'even', 'with', 'the', 'best', 'will', 'in', 'the', 'world', 'cant', 'keep', 'up', 'some', 'days', 'it', 'seems', 'that', 'for', 'every', 'book', 'read', 'ive', 'bought', 'two', 'theres', 'just', 'so', 'much', 'good', 'stuff', 'out', 'there', 'the', 'accumulative', 'effect', 'of', 'this', 'is', 'that', 'the', 'number', 'of', 'books', 'actually', 'on', 'my', 'paperwhite', 'has', 'been', 'creeping', 'ever', 'upward', 'for', 'some', 'time', 'its', 'now', 'at', 'about', 'with', 'this', 'in', 'mind', 'ive', 'noticed', 'that', 'while', 'page', 'turning', 'has', 'remained', 'exactly', 'the', 'same', 'just', 'about', 'every', 'other', 'action', 'on', 'the', 'kindle', 'has', 'become', 'positively', 'glacial', 'not', 'just', 'very', 'slow', 'but', 'so', 'slow', 'you', 'think', 'its', 'malfunctioning', 'the', 'general', 'consensus', 'appears', 'to', 'be', 'that', 'its', 'to', 'be', 'expected', 'once', 'one', 'has', 'that', 'many', 'books', 'downloaded', 'onto', 'kindle', 'it', 'will', 'begin', 'to', 'behave', 'in', 'flakey', 'manner', 'this', 'drives', 'me', 'mad', 'amazon', 'states', 'it', 'can', 'hold', 'thousands', 'of', 'books', 'believe', 'them', 'but', 'figure', 'would', 'need', 'second', 'paperwhite', 'to', 'read', 'while', 'im', 'waiting', 'for', 'actions', 'to', 'complete', 'on', 'the', 'first', 'one', 'read', 'more']\n"
     ]
    }
   ],
   "source": [
    "print(data_words[3])"
   ]
  },
  {
   "cell_type": "markdown",
   "id": "e4b8e0be",
   "metadata": {
    "papermill": {
     "duration": 0.009591,
     "end_time": "2022-11-10T05:05:18.111354",
     "exception": false,
     "start_time": "2022-11-10T05:05:18.101763",
     "status": "completed"
    },
    "tags": []
   },
   "source": [
    "The code below creates a list of stop words. The 'string' module in python comes with a list of punctuation characters, which we'll append to the builtin stopwords of NLTK."
   ]
  },
  {
   "cell_type": "code",
   "execution_count": 9,
   "id": "71d8d657",
   "metadata": {
    "papermill": {
     "duration": 0.027052,
     "end_time": "2022-11-10T05:05:18.147145",
     "exception": false,
     "start_time": "2022-11-10T05:05:18.120093",
     "status": "completed"
    },
    "tags": []
   },
   "outputs": [],
   "source": [
    "# create list of stop words\n",
    "# string.punctuation (from the 'string' module) contains a list of punctuations\n",
    "from nltk.corpus import stopwords\n",
    "stop_words = stopwords.words('english') + list(string.punctuation)\n"
   ]
  },
  {
   "cell_type": "code",
   "execution_count": 10,
   "id": "d11db220",
   "metadata": {
    "papermill": {
     "duration": 0.020464,
     "end_time": "2022-11-10T05:05:18.176371",
     "exception": false,
     "start_time": "2022-11-10T05:05:18.155907",
     "status": "completed"
    },
    "tags": []
   },
   "outputs": [],
   "source": [
    "# Removing stopwords and lemmatization\n",
    "def remove_stopwords(texts):\n",
    "    return [[word for word in simple_preprocess(str(doc)) if word not in stop_words] for doc in texts]\n",
    "\n",
    "def lemmatization(texts, allowed_postags=['NOUN', 'ADJ', 'VERB', 'ADV']):\n",
    "    \n",
    "    texts_out = []\n",
    "    for sent in texts:\n",
    "        doc = nlp(\" \".join(sent)) \n",
    "        texts_out.append([token.lemma_ for token in doc if token.pos_ in allowed_postags])\n",
    "    return texts_out"
   ]
  },
  {
   "cell_type": "code",
   "execution_count": 11,
   "id": "59f12806",
   "metadata": {
    "papermill": {
     "duration": 48.248041,
     "end_time": "2022-11-10T05:06:06.433465",
     "exception": false,
     "start_time": "2022-11-10T05:05:18.185424",
     "status": "completed"
    },
    "scrolled": true,
    "tags": []
   },
   "outputs": [],
   "source": [
    "# call functions\n",
    "\n",
    "# remove stop words\n",
    "data_words_nostops = remove_stopwords(data_words)\n",
    "\n",
    "# initialize spacy 'en' model, use only tagger since we don't need parsing or NER \n",
    "# python3 -m spacy download en\n",
    "nlp = spacy.load('en_core_web_sm', disable=['parser', 'ner'])\n",
    "\n",
    "# lemmatization keeping only noun, adj, vb, adv\n",
    "data_lemmatized = lemmatization(data_words_nostops, allowed_postags=['NOUN', 'ADJ'])"
   ]
  },
  {
   "cell_type": "code",
   "execution_count": 12,
   "id": "5a580f02",
   "metadata": {
    "papermill": {
     "duration": 0.019464,
     "end_time": "2022-11-10T05:06:06.463453",
     "exception": false,
     "start_time": "2022-11-10T05:06:06.443989",
     "status": "completed"
    },
    "tags": []
   },
   "outputs": [
    {
     "name": "stdout",
     "output_type": "stream",
     "text": [
      "['first', 'constant', 'companion', 'average', 'book', 'day', 'many', 'year', 'd', 'pry', 'cold', 'dead', 'finger', 'sundry', 'logistical', 'reason', 'good', 'use', 'amazon', 'paperwhite', 'screen', 'cool', 'usability', 'deliver', 'attraction', 'companion', 'critique', 'member', 'bookbub', 'daily', 'list', 'alert', 'book', 'deal', 'genre', 'many', 'good', 'world', 'day', 'book', 'good', 'stuff', 'accumulative', 'effect', 'number', 'book', 'paperwhite', 'upward', 'time', 'mind', 'page', 'action', 'kindle', 'glacial', 'slow', 'slow', 'think', 'general', 'consensus', 'many', 'book', 'kindle', 'manner', 'mad', 'amazon', 'state', 'thousand', 'book', 'figure', 'second', 'paperwhite', 'read', 'action', 'read']\n"
     ]
    }
   ],
   "source": [
    "print(data_lemmatized[3])"
   ]
  },
  {
   "cell_type": "markdown",
   "id": "04b88774",
   "metadata": {
    "papermill": {
     "duration": 0.008356,
     "end_time": "2022-11-10T05:06:06.480730",
     "exception": false,
     "start_time": "2022-11-10T05:06:06.472374",
     "status": "completed"
    },
    "tags": []
   },
   "source": [
    "comparing the nostop, lemmatised version with the original."
   ]
  },
  {
   "cell_type": "code",
   "execution_count": 13,
   "id": "e9c3fdab",
   "metadata": {
    "papermill": {
     "duration": 0.019559,
     "end_time": "2022-11-10T05:06:06.509160",
     "exception": false,
     "start_time": "2022-11-10T05:06:06.489601",
     "status": "completed"
    },
    "tags": []
   },
   "outputs": [
    {
     "name": "stdout",
     "output_type": "stream",
     "text": [
      "bought one of the first paperwhites and have been very pleased with it its been constant companion and suppose ive read on average book every three days for the past however many years on it wouldnt give it up youd have to pry it from my cold dead fingers for sundry logistical reasons ive also made good use of amazons kindle app on my iphone no paperwhite screen naturally and all the cool usability that delivers but it works well and has its own attractions as companion to the kindle of course there are aspects of the paperwhite which would like to critique ah you knew that was coming somewhere didnt you as member of bookbub get daily list of alerts and book deals in my chosen genres take on many of them however ive found that even with the best will in the world cant keep up some days it seems that for every book read ive bought two theres just so much good stuff out there the accumulative effect of this is that the number of books actually on my paperwhite has been creeping ever upward for some time its now at about with this in mind ive noticed that while page turning has remained exactly the same just about every other action on the kindle has become positively glacial not just very slow but so slow you think its malfunctioning the general consensus appears to be that its to be expected once one has that many books downloaded onto kindle it will begin to behave in flakey manner this drives me mad amazon states it can hold thousands of books believe them but figure would need second paperwhite to read while im waiting for actions to complete on the first one read more \n",
      "\n"
     ]
    }
   ],
   "source": [
    "# earphones is lemmatised to earphone. \n",
    "print(' '.join(data_words[3]), '\\n')"
   ]
  },
  {
   "cell_type": "code",
   "execution_count": 14,
   "id": "deafe8c5",
   "metadata": {
    "papermill": {
     "duration": 0.021068,
     "end_time": "2022-11-10T05:06:06.539949",
     "exception": false,
     "start_time": "2022-11-10T05:06:06.518881",
     "status": "completed"
    },
    "tags": []
   },
   "outputs": [
    {
     "name": "stdout",
     "output_type": "stream",
     "text": [
      "first constant companion average book day many year d pry cold dead finger sundry logistical reason good use amazon paperwhite screen cool usability deliver attraction companion critique member bookbub daily list alert book deal genre many good world day book good stuff accumulative effect number book paperwhite upward time mind page action kindle glacial slow slow think general consensus many book kindle manner mad amazon state thousand book figure second paperwhite read action read\n"
     ]
    }
   ],
   "source": [
    "# After lemmatization\n",
    "print(' '.join(data_lemmatized[3]))"
   ]
  },
  {
   "cell_type": "markdown",
   "id": "d6c64cab",
   "metadata": {
    "papermill": {
     "duration": 0.008844,
     "end_time": "2022-11-10T05:06:06.558451",
     "exception": false,
     "start_time": "2022-11-10T05:06:06.549607",
     "status": "completed"
    },
    "tags": []
   },
   "source": [
    "# Creating Dictionary and Corpus\n",
    "\n",
    "Gensim's LDA requires the data in a certain format. Firstly, it needs the corpus as a dicionary of id-word mapping, where each word has a unique numeric ID. This is for computationally efficiency purposes. Secondly, it needs the corpus as a term-document frequency matrix which contains the frequency of each word in each document."
   ]
  },
  {
   "cell_type": "code",
   "execution_count": 15,
   "id": "2b857bce",
   "metadata": {
    "papermill": {
     "duration": 0.475712,
     "end_time": "2022-11-10T05:06:07.043215",
     "exception": false,
     "start_time": "2022-11-10T05:06:06.567503",
     "status": "completed"
    },
    "scrolled": true,
    "tags": []
   },
   "outputs": [],
   "source": [
    "# create dictionary and corpus\n",
    "\n",
    "# create dictionary\n",
    "id2word = corpora.Dictionary(data_lemmatized)\n",
    "\n",
    "# Create corpus\n",
    "corpus = [id2word.doc2bow(text) for text in data_lemmatized]"
   ]
  },
  {
   "cell_type": "code",
   "execution_count": 16,
   "id": "abc7dd83",
   "metadata": {
    "papermill": {
     "duration": 0.02117,
     "end_time": "2022-11-10T05:06:07.073735",
     "exception": false,
     "start_time": "2022-11-10T05:06:07.052565",
     "status": "completed"
    },
    "tags": []
   },
   "outputs": [
    {
     "name": "stdout",
     "output_type": "stream",
     "text": [
      "[(1, 2), (8, 2), (27, 1), (28, 3), (37, 1), (46, 1), (50, 1), (55, 6), (77, 2), (81, 3), (97, 1), (98, 1), (102, 1), (103, 2), (104, 1), (105, 1), (106, 1), (107, 1), (108, 1), (109, 2), (110, 1), (111, 1), (112, 1), (113, 1), (114, 1), (115, 1), (116, 1), (117, 1), (118, 1), (119, 1), (120, 1), (121, 1), (122, 1), (123, 1), (124, 1), (125, 1), (126, 3), (127, 1), (128, 1), (129, 1), (130, 1), (131, 1), (132, 1), (133, 1), (134, 1), (135, 2), (136, 1), (137, 1), (138, 2), (139, 1), (140, 1), (141, 1), (142, 1), (143, 1), (144, 1), (145, 1)]\n"
     ]
    }
   ],
   "source": [
    "print(corpus[3])"
   ]
  },
  {
   "cell_type": "markdown",
   "id": "e420b44d",
   "metadata": {
    "papermill": {
     "duration": 0.009764,
     "end_time": "2022-11-10T05:06:07.092899",
     "exception": false,
     "start_time": "2022-11-10T05:06:07.083135",
     "status": "completed"
    },
    "tags": []
   },
   "source": [
    "The (3, 7) above represents the fact that the word with id=3 appears 7 times in the second document (review), word id 12 appears twice and so on. The nested list below shows the frequencies of words in the first document."
   ]
  },
  {
   "cell_type": "code",
   "execution_count": 17,
   "id": "e914493c",
   "metadata": {
    "papermill": {
     "duration": 0.028223,
     "end_time": "2022-11-10T05:06:07.130512",
     "exception": false,
     "start_time": "2022-11-10T05:06:07.102289",
     "status": "completed"
    },
    "scrolled": true,
    "tags": []
   },
   "outputs": [
    {
     "data": {
      "text/plain": [
       "[[('adjustment', 1),\n",
       "  ('amazon', 1),\n",
       "  ('auto', 1),\n",
       "  ('basis', 1),\n",
       "  ('case', 1),\n",
       "  ('certain', 1),\n",
       "  ('change', 1),\n",
       "  ('custom', 1),\n",
       "  ('day', 2),\n",
       "  ('delivery', 1),\n",
       "  ('dollar', 1),\n",
       "  ('easy', 1),\n",
       "  ('expense', 1),\n",
       "  ('extra', 1),\n",
       "  ('fine', 1),\n",
       "  ('friend', 1),\n",
       "  ('glad', 1),\n",
       "  ('great', 1),\n",
       "  ('hard', 1),\n",
       "  ('international', 1),\n",
       "  ('jump', 1),\n",
       "  ('level', 1),\n",
       "  ('light', 3),\n",
       "  ('model', 1),\n",
       "  ('money', 1),\n",
       "  ('need', 1),\n",
       "  ('option', 1),\n",
       "  ('page', 1),\n",
       "  ('paperwhite', 4),\n",
       "  ('party', 1),\n",
       "  ('press', 1),\n",
       "  ('pricey', 1),\n",
       "  ('reading', 1),\n",
       "  ('receptive', 1),\n",
       "  ('regardless', 1),\n",
       "  ('regret', 1),\n",
       "  ('review', 1),\n",
       "  ('screen', 1),\n",
       "  ('sensitive', 1),\n",
       "  ('service', 1),\n",
       "  ('setting', 2),\n",
       "  ('shipping', 2),\n",
       "  ('specific', 2),\n",
       "  ('spending', 1),\n",
       "  ('thing', 1),\n",
       "  ('third', 1),\n",
       "  ('time', 3),\n",
       "  ('touch', 1),\n",
       "  ('tracking', 1),\n",
       "  ('trouble', 1),\n",
       "  ('use', 1),\n",
       "  ('voyage', 3),\n",
       "  ('week', 1),\n",
       "  ('worry', 1)]]"
      ]
     },
     "execution_count": 17,
     "metadata": {},
     "output_type": "execute_result"
    }
   ],
   "source": [
    "# Readable format of corpus (term,frequency)\n",
    "[[(id2word[id], freq) for id, freq in cp] for cp in corpus[:1]]"
   ]
  },
  {
   "cell_type": "markdown",
   "id": "83877404",
   "metadata": {
    "papermill": {
     "duration": 0.008546,
     "end_time": "2022-11-10T05:06:07.148344",
     "exception": false,
     "start_time": "2022-11-10T05:06:07.139798",
     "status": "completed"
    },
    "tags": []
   },
   "source": [
    "# Building Topic Model "
   ]
  },
  {
   "cell_type": "markdown",
   "id": "ba10fd5c",
   "metadata": {
    "papermill": {
     "duration": 0.009088,
     "end_time": "2022-11-10T05:06:07.166317",
     "exception": false,
     "start_time": "2022-11-10T05:06:07.157229",
     "status": "completed"
    },
    "tags": []
   },
   "source": [
    "We'll define 10 topics to start with. \n",
    "The hyperparameter **alpha** affects sparsity of the document-topic (**theta**) distributions, whose default value is 1. \n",
    "Similarly, the hyperparameter **eta** can also be specified, which affects the topic-word distribution's sparsity.\n",
    "\n"
   ]
  },
  {
   "cell_type": "code",
   "execution_count": 18,
   "id": "44540fd4",
   "metadata": {
    "papermill": {
     "duration": 0.020858,
     "end_time": "2022-11-10T05:06:07.196578",
     "exception": false,
     "start_time": "2022-11-10T05:06:07.175720",
     "status": "completed"
    },
    "tags": []
   },
   "outputs": [],
   "source": [
    "#help(gensim.models.ldamodel.LdaModel)"
   ]
  },
  {
   "cell_type": "code",
   "execution_count": 19,
   "id": "1ce29bf8",
   "metadata": {
    "papermill": {
     "duration": 229.886726,
     "end_time": "2022-11-10T05:09:57.093427",
     "exception": false,
     "start_time": "2022-11-10T05:06:07.206701",
     "status": "completed"
    },
    "tags": []
   },
   "outputs": [],
   "source": [
    "# Build LDA model\n",
    "lda_model = gensim.models.ldamodel.LdaModel(corpus=corpus,\n",
    "                                           id2word=id2word,\n",
    "                                           num_topics=6, \n",
    "                                           random_state=100,\n",
    "                                           update_every=1,\n",
    "                                           chunksize=1000,\n",
    "                                           passes=100,\n",
    "                                           alpha=0.1,\n",
    "                                           per_word_topics=True)"
   ]
  },
  {
   "cell_type": "markdown",
   "id": "f2c4e815",
   "metadata": {
    "papermill": {
     "duration": 0.008917,
     "end_time": "2022-11-10T05:09:57.112624",
     "exception": false,
     "start_time": "2022-11-10T05:09:57.103707",
     "status": "completed"
    },
    "tags": []
   },
   "source": [
    "Topics found in the dataset."
   ]
  },
  {
   "cell_type": "code",
   "execution_count": 20,
   "id": "c82f1a5b",
   "metadata": {
    "papermill": {
     "duration": 0.023416,
     "end_time": "2022-11-10T05:09:57.145139",
     "exception": false,
     "start_time": "2022-11-10T05:09:57.121723",
     "status": "completed"
    },
    "tags": []
   },
   "outputs": [
    {
     "name": "stdout",
     "output_type": "stream",
     "text": [
      "[(0,\n",
      "  '0.080*\"headphone\" + 0.078*\"nice\" + 0.064*\"ear\" + 0.039*\"product\" + '\n",
      "  '0.032*\"bud\" + 0.027*\"sound\" + 0.020*\"earbud\" + 0.019*\"people\" + '\n",
      "  '0.018*\"noise\" + 0.017*\"apple\"'),\n",
      " (1,\n",
      "  '0.041*\"product\" + 0.039*\"bad\" + 0.020*\"money\" + 0.018*\"worth\" + '\n",
      "  '0.018*\"item\" + 0.017*\"option\" + 0.016*\"review\" + 0.015*\"fire\" + '\n",
      "  '0.014*\"first\" + 0.013*\"price\"'),\n",
      " (2,\n",
      "  '0.025*\"day\" + 0.024*\"time\" + 0.024*\"month\" + 0.022*\"mic\" + 0.020*\"problem\" '\n",
      "  '+ 0.018*\"work\" + 0.018*\"bad\" + 0.017*\"side\" + 0.017*\"button\" + '\n",
      "  '0.016*\"thing\"'),\n",
      " (3,\n",
      "  '0.135*\"good\" + 0.074*\"quality\" + 0.060*\"sound\" + 0.058*\"product\" + '\n",
      "  '0.051*\"bass\" + 0.030*\"price\" + 0.024*\"battery\" + 0.018*\"awesome\" + '\n",
      "  '0.018*\"nice\" + 0.016*\"backup\"'),\n",
      " (4,\n",
      "  '0.026*\"kindle\" + 0.020*\"great\" + 0.018*\"screen\" + 0.017*\"new\" + '\n",
      "  '0.015*\"book\" + 0.015*\"speaker\" + 0.015*\"tablet\" + 0.011*\"easy\" + '\n",
      "  '0.011*\"fire\" + 0.011*\"music\"'),\n",
      " (5,\n",
      "  '0.027*\"year\" + 0.027*\"device\" + 0.023*\"fire\" + 0.020*\"prime\" + '\n",
      "  '0.019*\"video\" + 0.014*\"tv\" + 0.014*\"review\" + 0.012*\"movie\" + 0.012*\"last\" '\n",
      "  '+ 0.012*\"app\"')]\n"
     ]
    }
   ],
   "source": [
    "# print the 10 topics\n",
    "pprint.pprint(lda_model.print_topics())\n",
    "doc_lda = lda_model[corpus]"
   ]
  },
  {
   "cell_type": "markdown",
   "id": "03c0d257",
   "metadata": {
    "papermill": {
     "duration": 0.009573,
     "end_time": "2022-11-10T05:09:57.164337",
     "exception": false,
     "start_time": "2022-11-10T05:09:57.154764",
     "status": "completed"
    },
    "tags": []
   },
   "source": [
    "Evaluate the model using - coherence score. [~0.5 is basic score]"
   ]
  },
  {
   "cell_type": "code",
   "execution_count": 21,
   "id": "17853ff9",
   "metadata": {
    "papermill": {
     "duration": 1.456794,
     "end_time": "2022-11-10T05:09:58.630775",
     "exception": false,
     "start_time": "2022-11-10T05:09:57.173981",
     "status": "completed"
    },
    "tags": []
   },
   "outputs": [
    {
     "name": "stdout",
     "output_type": "stream",
     "text": [
      "\n",
      "Coherence Score:  0.5793929521504352\n"
     ]
    }
   ],
   "source": [
    "# coherence score\n",
    "coherence_model_lda = CoherenceModel(model=lda_model, texts=data_lemmatized, dictionary=id2word, coherence='c_v')\n",
    "coherence_lda = coherence_model_lda.get_coherence()\n",
    "print('\\nCoherence Score: ', coherence_lda)"
   ]
  },
  {
   "cell_type": "markdown",
   "id": "c84ea534",
   "metadata": {
    "papermill": {
     "duration": 0.008953,
     "end_time": "2022-11-10T05:09:58.649008",
     "exception": false,
     "start_time": "2022-11-10T05:09:58.640055",
     "status": "completed"
    },
    "tags": []
   },
   "source": [
    "**pyLDAvis** library help to see excellent interactive visualization."
   ]
  },
  {
   "cell_type": "code",
   "execution_count": 22,
   "id": "81a26b36",
   "metadata": {
    "papermill": {
     "duration": 4.001592,
     "end_time": "2022-11-10T05:10:02.660194",
     "exception": false,
     "start_time": "2022-11-10T05:09:58.658602",
     "status": "completed"
    },
    "tags": []
   },
   "outputs": [
    {
     "data": {
      "text/html": [
       "\n",
       "<link rel=\"stylesheet\" type=\"text/css\" href=\"https://cdn.jsdelivr.net/gh/bmabey/pyLDAvis@3.4.0/pyLDAvis/js/ldavis.v1.0.0.css\">\n",
       "\n",
       "\n",
       "<div id=\"ldavis_el29483099080202880114207100\" style=\"background-color:white;\"></div>\n",
       "<script type=\"text/javascript\">\n",
       "\n",
       "var ldavis_el29483099080202880114207100_data = {\"mdsDat\": {\"x\": [-0.1860793862350979, 0.10527666141408284, 0.15861464671471368, 0.15138900245891776, 0.07454951341559816, -0.30375043776821425], \"y\": [0.11044286075509326, -0.1541973834047911, -0.13981752482498347, 0.27163442675966704, -0.023552258888348224, -0.06451012039663744], \"topics\": [1, 2, 3, 4, 5, 6], \"cluster\": [1, 1, 1, 1, 1, 1], \"Freq\": [34.91956502331345, 18.835806743963154, 16.5160742045375, 11.330224311203747, 9.476343867357146, 8.921985849624996]}, \"tinfo\": {\"Term\": [\"good\", \"nice\", \"product\", \"bass\", \"headphone\", \"sound\", \"quality\", \"ear\", \"bad\", \"bud\", \"price\", \"year\", \"kindle\", \"money\", \"fire\", \"day\", \"month\", \"video\", \"backup\", \"device\", \"prime\", \"worth\", \"great\", \"awesome\", \"mic\", \"boat\", \"screen\", \"problem\", \"speaker\", \"time\", \"bass\", \"backup\", \"boat\", \"earphone\", \"headset\", \"flipkart\", \"delivery\", \"super\", \"build\", \"superb\", \"realme\", \"clarity\", \"budget\", \"treble\", \"lover\", \"vocal\", \"hrs\", \"balanced\", \"segment\", \"range\", \"upto\", \"basshead\", \"go\", \"mi\", \"trust\", \"output\", \"rate\", \"boy\", \"charging\", \"packaging\", \"good\", \"awesome\", \"quality\", \"sound\", \"overall\", \"price\", \"wire\", \"battery\", \"clear\", \"decent\", \"product\", \"excellent\", \"thank\", \"design\", \"amazing\", \"connectivity\", \"nice\", \"great\", \"well\", \"low\", \"money\", \"music\", \"worth\", \"speaker\", \"tap\", \"alexa\", \"page\", \"touch\", \"paperwhite\", \"reader\", \"camera\", \"dot\", \"echo\", \"early\", \"ink\", \"portable\", \"comcast\", \"gig\", \"command\", \"tech\", \"gift\", \"sling\", \"edge\", \"series\", \"reading\", \"surprised\", \"voyage\", \"technology\", \"keyboard\", \"airdope\", \"secondary\", \"inch\", \"fun\", \"book\", \"screen\", \"kindle\", \"new\", \"display\", \"tablet\", \"easy\", \"old\", \"case\", \"large\", \"size\", \"cover\", \"great\", \"access\", \"hand\", \"model\", \"music\", \"fire\", \"love\", \"thing\", \"free\", \"review\", \"much\", \"device\", \"feature\", \"nice\", \"good\", \"video\", \"pair\", \"min\", \"system\", \"title\", \"improvement\", \"setup\", \"deep\", \"favorite\", \"period\", \"capacity\", \"feeling\", \"specific\", \"watch\", \"common\", \"offering\", \"tinny\", \"processor\", \"member\", \"image\", \"ghz\", \"limitation\", \"auto\", \"email\", \"popular\", \"instant\", \"notch\", \"result\", \"setting\", \"bed\", \"prime\", \"category\", \"search\", \"year\", \"play\", \"available\", \"complaint\", \"game\", \"app\", \"update\", \"device\", \"last\", \"movie\", \"hdx\", \"remote\", \"tv\", \"fire\", \"able\", \"content\", \"top\", \"version\", \"download\", \"review\", \"tablet\", \"use\", \"time\", \"amazon\", \"hour\", \"feature\", \"well\", \"free\", \"good\", \"quality\", \"mic\", \"colour\", \"thin\", \"different\", \"charger\", \"neck\", \"whole\", \"stylish\", \"band\", \"jack\", \"talk\", \"nd\", \"complete\", \"ok\", \"description\", \"press\", \"turn\", \"rupee\", \"step\", \"shape\", \"rubber\", \"proper\", \"place\", \"pubg\", \"flexible\", \"feel\", \"thought\", \"interesting\", \"neckband\", \"future\", \"problem\", \"side\", \"weight\", \"person\", \"month\", \"button\", \"work\", \"week\", \"switch\", \"con\", \"day\", \"issue\", \"phone\", \"call\", \"volume\", \"time\", \"light\", \"voice\", \"charge\", \"minute\", \"bad\", \"thing\", \"audio\", \"cable\", \"black\", \"use\", \"first\", \"hour\", \"pro\", \"battery\", \"device\", \"return\", \"expensive\", \"smart\", \"replacement\", \"waste\", \"address\", \"casual\", \"dozen\", \"solid\", \"slow\", \"answer\", \"penny\", \"replace\", \"comment\", \"niche\", \"half\", \"tough\", \"site\", \"disconnect\", \"scratch\", \"compact\", \"summary\", \"refund\", \"pleasant\", \"third\", \"respond\", \"demand\", \"chromecast\", \"area\", \"suggestion\", \"item\", \"box\", \"bad\", \"original\", \"option\", \"smartphone\", \"difference\", \"channel\", \"roku\", \"worth\", \"many\", \"money\", \"cheap\", \"first\", \"point\", \"second\", \"star\", \"apple\", \"fine\", \"product\", \"review\", \"user\", \"background\", \"fire\", \"need\", \"amazon\", \"use\", \"price\", \"content\", \"tv\", \"feature\", \"great\", \"device\", \"headphone\", \"ear\", \"earbud\", \"oneplus\", \"magnet\", \"jbl\", \"earpod\", \"flat\", \"latency\", \"audiophile\", \"fabulous\", \"reasonable\", \"hear\", \"metal\", \"crazy\", \"musician\", \"secure\", \"damage\", \"validity\", \"get\", \"ignorance\", \"represent\", \"tug\", \"outside\", \"skullcandy\", \"working\", \"public\", \"driver\", \"airpod\", \"brain\", \"cord\", \"noise\", \"fall\", \"far\", \"bud\", \"people\", \"nice\", \"bullet\", \"right\", \"iphone\", \"apple\", \"comfortable\", \"one\", \"regular\", \"product\", \"fit\", \"sound\", \"design\", \"free\", \"lot\", \"low\", \"use\", \"able\"], \"Freq\": [7751.0, 2233.0, 4319.0, 2742.0, 1109.0, 3737.0, 4378.0, 892.0, 879.0, 666.0, 1912.0, 829.0, 842.0, 691.0, 1118.0, 834.0, 623.0, 499.0, 864.0, 1136.0, 546.0, 577.0, 1455.0, 1044.0, 381.0, 780.0, 588.0, 399.0, 448.0, 982.0, 2741.2385424454856, 863.3729010185414, 779.6818873410524, 696.2276182761245, 463.7455199810205, 458.7851975599965, 381.0027222709528, 345.59988138743995, 321.6547321904886, 293.026742230099, 276.918663036675, 248.58227253186794, 214.68359589359883, 134.8977697111807, 131.77646095354018, 127.39773372244191, 102.65973378852827, 103.05379461526084, 99.63015914855097, 762.7679066555412, 59.46585096382989, 57.0649097942237, 56.77007132684674, 46.314010889930415, 46.76992547698289, 44.436763628260096, 41.541674273314584, 36.1598162500737, 35.5358424107051, 36.16089592067185, 7325.924696552624, 979.8801426363723, 4013.0607056232966, 3233.94211589677, 366.51639671002295, 1611.2898943995906, 262.3882414555262, 1308.6319853250086, 432.8280474771593, 211.3799806514509, 3170.6786214688523, 458.31292059659853, 309.45495954053007, 486.4911867127513, 484.47448831268406, 199.81405672282298, 951.8306288175138, 708.629560824051, 397.7223369933458, 366.0411396032195, 389.1507121512926, 421.5219642724843, 307.7269814744503, 447.1825996824607, 299.4275546297983, 230.62622226834807, 209.56198320666184, 209.32491696173935, 193.25290994130134, 184.87783167897794, 181.75406635928974, 169.59585929489145, 143.0157499709289, 125.94643541927122, 99.28023598297747, 98.86410312178195, 98.11585682621308, 80.90187355900807, 79.8829191904604, 77.72371868738026, 75.81251001986895, 75.74468144651709, 73.12388836155954, 73.1078541717955, 71.47387214973715, 68.59960399949112, 67.30462861488226, 67.51762314076221, 58.82812763140912, 58.105151872809046, 56.27448537898714, 55.92384816421306, 55.82211211565077, 449.32744842775287, 534.8401936981413, 746.9028021155818, 510.1853587179275, 187.84630920841954, 431.1560932514975, 327.5958797391902, 155.65159061843414, 261.7586519463369, 130.2319370471136, 166.91500270724092, 140.4871023911234, 589.8204359250599, 118.12098793028666, 114.01145370191924, 204.65768718489267, 318.0622256887001, 319.62518456009167, 219.92066920319235, 237.40131453287492, 184.26715655191552, 214.2936085782533, 158.8487699131762, 190.4506866615456, 166.74131033723967, 193.31844986224846, 172.23165122685853, 498.11859195314935, 166.42158170879893, 123.93173137369342, 107.60844653517994, 103.59258029650367, 98.53738674182328, 95.94603847168341, 88.43475206244695, 81.6170095070039, 81.59125567180133, 81.18937161263847, 81.84702016272887, 75.69546099747465, 73.1172046584025, 69.57976130034572, 67.89290898496277, 66.89851351084847, 64.3679125175744, 57.92293761438037, 57.65342420679322, 51.8299457283461, 50.874682705124, 50.938040006568535, 49.203989249003705, 48.348659706906226, 48.33468980418387, 47.04967675349162, 45.13666013439449, 43.53873977776995, 43.463607502739634, 524.330166935383, 89.68491202748878, 224.95322841926927, 704.5569868868229, 138.36998120672854, 254.95945661878935, 96.11712946500732, 281.26953165903797, 299.15678861686354, 165.73799417302095, 701.4326978771282, 315.35855501126025, 316.4666627461403, 271.5520936047902, 159.4991514855844, 357.52971955352285, 581.8355663157242, 231.18080679010285, 241.0584059864638, 119.63983562487759, 195.78275756380427, 126.570233291543, 348.5832003380057, 177.51288414244743, 208.96516152012944, 202.52116015013067, 147.45980689762843, 143.81308294525314, 136.58896493823713, 134.19871995777854, 129.4890410984758, 136.6694874814192, 130.04649934580112, 380.77260651694536, 114.62458090845013, 92.43868647928288, 91.83501894133188, 78.37864206410232, 65.85924174069775, 63.79521616446929, 63.24227285934868, 62.2609310395231, 57.662172937126414, 55.692892688843834, 55.485328964210964, 48.24649746116548, 46.61625831290306, 45.73269789990279, 44.156272327891934, 44.234210644281255, 43.27313393395318, 43.068802957276944, 40.106151297279446, 39.30860902192387, 38.69721812541994, 38.86432947923419, 38.61942321356609, 38.283672223316756, 38.0941242056108, 36.902506266795825, 34.99643873774647, 34.82123527085952, 35.04486440073698, 353.9813614740225, 305.9562478374363, 150.67557153001357, 96.20757892403005, 423.1203427889943, 304.974639694902, 315.6868765487316, 145.17965416738204, 73.59289673927586, 85.82896657605244, 439.52988614051844, 208.9668437751377, 261.51818150008205, 232.79264691553018, 225.44155014757737, 425.0142987807055, 225.88898868731974, 263.3321915119074, 144.29008715298198, 105.02241807729732, 310.4821605330889, 285.5191840100891, 113.17712927836456, 124.01489017072342, 94.07358832358416, 165.54398321434113, 120.26239501028861, 111.93072261245686, 97.9333500765472, 116.23802123970087, 107.00812019352692, 123.04253511868853, 115.99332059096113, 112.74825650939438, 94.14106534370947, 85.46924338414259, 84.17658833620335, 66.91190626773876, 58.10682033591156, 55.08898832430494, 54.76843583435424, 53.92538220321664, 53.33455963086965, 49.78036823121796, 47.059110926855155, 45.659664447946255, 45.40773152651388, 42.43125493604585, 40.18013283067415, 36.671881999118575, 35.38701279115506, 35.10151371542599, 34.870070026922654, 34.222765846089885, 33.61733454318988, 32.872292711852154, 32.47799748843432, 30.056930235142072, 29.47962664990079, 28.62365201980703, 27.49259427375804, 261.19730338544383, 176.47589130171477, 568.4119366695843, 111.09401910265358, 243.12458683140142, 76.34798107048483, 79.95210533733992, 51.619944268789034, 130.06475964833112, 268.7607260381868, 192.5494289524164, 301.1924779674344, 150.29102857368343, 204.38013616269214, 145.27631708594717, 116.22862293079046, 117.1866924717453, 184.63843982357463, 130.0255425916929, 607.1718767734566, 241.8633355851952, 135.1525045082339, 75.04970596199976, 216.1062005870971, 83.94047725595402, 128.50838668614418, 168.76393456098447, 197.3458490640731, 119.81708641917326, 133.18100097621524, 127.98211599215213, 155.97384189313829, 137.66358868251294, 1108.3558992150595, 891.4232596066784, 282.5282421029336, 235.2542924299047, 217.868965957575, 167.86134135328902, 135.3466758400376, 87.9930664141363, 82.53340183033177, 80.86558020002276, 67.70296915413707, 65.5049020096293, 61.62338456559771, 61.217342447372054, 48.13087760754311, 47.886552208362545, 47.68991941618724, 45.893035435355685, 45.19912768445359, 44.91574674422319, 44.09007292174116, 44.09007292174116, 44.09007292174116, 43.726228855675004, 43.71730464034714, 43.1380275642042, 39.46845539461331, 37.887585175398314, 32.688271506874685, 32.18750881251181, 78.77491982639884, 248.7740592199568, 95.67386688416741, 90.5993631743362, 441.2858900913849, 268.8019342541581, 1087.448017825433, 75.3055682029401, 162.75658694103043, 75.56400263813974, 237.00666503160997, 183.83585456283944, 136.7525333563441, 83.2848685116204, 541.0921978015358, 107.1798906156413, 373.73697496236537, 144.2357621525439, 125.0585203514452, 110.04667379981471, 126.69867885007628, 99.8710808652204, 81.6354760635069], \"Total\": [7751.0, 2233.0, 4319.0, 2742.0, 1109.0, 3737.0, 4378.0, 892.0, 879.0, 666.0, 1912.0, 829.0, 842.0, 691.0, 1118.0, 834.0, 623.0, 499.0, 864.0, 1136.0, 546.0, 577.0, 1455.0, 1044.0, 381.0, 780.0, 588.0, 399.0, 448.0, 982.0, 2742.369102337053, 864.500453446901, 780.8106415099082, 697.3570930560116, 464.87447786461814, 459.9147218713648, 382.13264344483366, 346.73255133214957, 322.7832649643349, 294.16830226804933, 278.04589037703084, 249.71398677101584, 215.81177922212603, 136.02613003600334, 132.90450514410855, 128.52482460285705, 103.78774012243244, 104.19495949879754, 100.75729399208888, 775.9880625802829, 60.59465792555919, 58.19450524329323, 57.91192233672739, 47.44507509606984, 47.9160401860348, 45.59417134186711, 42.67273368132835, 37.28865545881046, 36.665466218318855, 37.32423353202347, 7751.033210111686, 1044.0255102710262, 4378.258966333142, 3737.161474403887, 405.3399404613739, 1912.4183834451596, 288.95377082032246, 1568.4611690949505, 493.97961150059166, 231.07645517517975, 4319.6551722624135, 545.7311578551922, 357.62168942873967, 631.6615323424703, 670.637389836889, 226.61126833584385, 2233.2689504431846, 1455.069675417321, 624.7323750685264, 579.760393964549, 691.2498159850812, 854.6689272234884, 577.395640666042, 448.2029705167745, 300.4455697510078, 231.6450406238875, 210.5814994487834, 210.3448162107961, 194.2720116502484, 185.89540073200402, 182.77613171038533, 170.61418680797559, 144.03422543168364, 126.96670060238749, 100.29892673458454, 99.88269292653929, 99.13308260618012, 81.91813556853023, 80.90199050503881, 78.74388902782121, 76.83148487773653, 76.76336357714297, 74.14486155490539, 74.12864466318136, 72.4927414289224, 69.6203436960392, 68.32322876062348, 68.54043342743394, 59.847395026364175, 59.14392603658971, 57.291005345660345, 56.94275726716364, 56.84466453120017, 479.15340223356674, 588.233316566501, 842.3681483933193, 641.399921053274, 223.99838305340597, 609.4364201678683, 482.6038477654814, 197.09361305213352, 386.3292084310605, 158.72281042699214, 229.55466411145005, 183.04449270257817, 1455.069675417321, 145.15171151268524, 138.3529879276643, 383.0549829810433, 854.6689272234884, 1118.1074564451876, 560.2740571073067, 776.9291359803703, 439.38983769357174, 963.3505316685341, 372.461874896655, 1136.9049387129364, 519.2366042467527, 2233.2689504431846, 7751.033210111686, 499.1481198288237, 167.46707913284038, 124.97703751068455, 108.64197175068767, 104.61925017021427, 99.5700316370318, 96.97528322002576, 89.47357679374213, 82.6479454943432, 82.62419067652225, 82.22076820915888, 82.89678173932768, 76.74266686787753, 74.14549909249361, 70.6367358510753, 68.95605025098959, 67.95590324832494, 65.3968589068963, 58.952189980310735, 58.68309094665755, 52.85564612442099, 51.90197212831999, 51.97315314115148, 50.23115858783859, 49.3747322097532, 49.364479743438885, 48.085974389737686, 46.16711734018632, 44.57009179614634, 44.496369512441824, 546.1163419900691, 93.09870305047994, 246.09259373275808, 829.4073771374458, 155.90685990938283, 307.7284102276597, 105.15688994165627, 351.13489242966205, 408.374261634981, 205.71741724045305, 1136.9049387129364, 442.11706249579754, 450.250747155753, 390.0681731464524, 204.23863696964563, 590.2791923427253, 1118.1074564451876, 347.4387299466233, 393.34901212395545, 145.52076855235393, 308.12940480452835, 167.93092118647692, 963.3505316685341, 609.4364201678683, 963.7153147693333, 982.0854989147114, 425.9289308629891, 416.40888278095855, 519.2366042467527, 624.7323750685264, 439.38983769357174, 7751.033210111686, 4378.258966333142, 381.8629433939832, 115.71550898663743, 93.53129819727454, 92.92896754370733, 79.47135307374305, 66.94883750160777, 64.88865809067681, 64.33389210892959, 63.35504421541778, 58.75378366841337, 56.78570809393596, 56.57612243485887, 49.33672821482086, 47.70582032043364, 46.828391293850935, 45.24657706263347, 45.32916693493666, 44.36438331239978, 44.16109881973539, 41.199069447548325, 40.39795430306729, 39.78694159273962, 39.95932670553689, 39.71154662614844, 39.37771770840832, 39.186232512506045, 37.99619470823773, 36.08958028248356, 35.911530723098174, 36.142766403740445, 399.96854606039926, 345.6985870640635, 186.92096220810257, 113.24271032882925, 623.29094409728, 446.89378783836486, 466.3481241674432, 195.3042124816307, 86.96068447350434, 105.74152167413109, 834.0224830295449, 345.6330824574387, 464.34671741977525, 406.5574964595127, 389.7351926008848, 982.0854989147114, 422.1871572976174, 535.1495322742029, 229.44891557388405, 154.42846987505536, 879.7621601355506, 776.9291359803703, 211.86820776122673, 261.0798581192775, 150.1473014442761, 963.7153147693333, 449.7607254277442, 416.40888278095855, 229.74600798732402, 1568.4611690949505, 1136.9049387129364, 124.10163667871912, 117.05684554657446, 113.80895612247133, 95.20301659745755, 86.52673706599663, 85.2397199834133, 67.97086426436555, 59.17850210018755, 56.150878309380374, 55.83114023278189, 54.986239549353435, 54.39370270879242, 50.83982226685461, 48.12292726982436, 46.71539164015741, 46.471550641579384, 43.49008622531769, 41.24431261115156, 37.738119075152305, 36.44460509868604, 36.16235213518636, 35.92956169254312, 35.27941609145465, 34.67565120408019, 33.93705291087882, 33.5354085806733, 31.113911567674478, 30.538961614328496, 29.689991960794373, 28.55485320791329, 292.85230649131825, 203.28846819672881, 879.7621601355506, 139.76236347734172, 374.892927690275, 93.7481010178177, 100.42253038817024, 58.56347430211068, 201.41162647814912, 577.395640666042, 366.76945342278844, 691.2498159850812, 282.9650543864285, 449.7607254277442, 298.51721127843143, 215.5127806401323, 222.0311459024656, 480.74150218764277, 272.7732456205629, 4319.6551722624135, 963.3505316685341, 363.9445044388768, 107.9508650782046, 1118.1074564451876, 142.74066529746503, 425.9289308629891, 963.7153147693333, 1912.4183834451596, 393.34901212395545, 590.2791923427253, 519.2366042467527, 1455.069675417321, 1136.9049387129364, 1109.4433243097976, 892.5108748272219, 283.61419799066573, 236.3436184405783, 218.95862090817946, 168.95282990921802, 136.43197060081545, 89.08397997843886, 83.62608828968472, 81.95117745186089, 68.79185366049026, 66.59678905487952, 62.71041743898838, 62.30391814150411, 49.217816511099166, 48.97104228879756, 48.77540098449275, 46.983145613349116, 46.28365159474799, 46.00770574428893, 45.17434939490875, 45.17434939490875, 45.17434939490875, 44.81117225761844, 44.80384755831643, 44.2277520867401, 40.56769690482714, 38.97939776724431, 33.77744505605622, 33.27088459246748, 86.24656725515838, 312.24426386638885, 111.07089286556929, 104.52302781393179, 666.5901869944857, 398.087635224854, 2233.2689504431846, 87.85632097177674, 254.65659223014416, 95.1060851297418, 480.74150218764277, 385.05114401878313, 252.54667125832955, 125.91372315933671, 4319.6551722624135, 220.2625267282337, 3737.161474403887, 631.6615323424703, 439.38983769357174, 341.23293592300416, 579.760393964549, 963.7153147693333, 347.4387299466233], \"Category\": [\"Default\", \"Default\", \"Default\", \"Default\", \"Default\", \"Default\", \"Default\", \"Default\", \"Default\", \"Default\", \"Default\", \"Default\", \"Default\", \"Default\", \"Default\", \"Default\", \"Default\", \"Default\", \"Default\", \"Default\", \"Default\", \"Default\", \"Default\", \"Default\", \"Default\", \"Default\", \"Default\", \"Default\", \"Default\", \"Default\", \"Topic1\", \"Topic1\", \"Topic1\", \"Topic1\", \"Topic1\", \"Topic1\", \"Topic1\", \"Topic1\", \"Topic1\", \"Topic1\", \"Topic1\", \"Topic1\", \"Topic1\", \"Topic1\", \"Topic1\", \"Topic1\", \"Topic1\", \"Topic1\", \"Topic1\", \"Topic1\", \"Topic1\", \"Topic1\", \"Topic1\", \"Topic1\", \"Topic1\", \"Topic1\", \"Topic1\", \"Topic1\", \"Topic1\", \"Topic1\", \"Topic1\", \"Topic1\", \"Topic1\", \"Topic1\", \"Topic1\", \"Topic1\", \"Topic1\", \"Topic1\", \"Topic1\", \"Topic1\", \"Topic1\", \"Topic1\", \"Topic1\", \"Topic1\", \"Topic1\", \"Topic1\", \"Topic1\", \"Topic1\", \"Topic1\", \"Topic1\", \"Topic1\", \"Topic1\", \"Topic1\", \"Topic2\", \"Topic2\", \"Topic2\", \"Topic2\", \"Topic2\", \"Topic2\", \"Topic2\", \"Topic2\", \"Topic2\", \"Topic2\", \"Topic2\", \"Topic2\", \"Topic2\", \"Topic2\", \"Topic2\", \"Topic2\", \"Topic2\", \"Topic2\", \"Topic2\", \"Topic2\", \"Topic2\", \"Topic2\", \"Topic2\", \"Topic2\", \"Topic2\", \"Topic2\", \"Topic2\", \"Topic2\", \"Topic2\", \"Topic2\", \"Topic2\", \"Topic2\", \"Topic2\", \"Topic2\", \"Topic2\", \"Topic2\", \"Topic2\", \"Topic2\", \"Topic2\", \"Topic2\", \"Topic2\", \"Topic2\", \"Topic2\", \"Topic2\", \"Topic2\", \"Topic2\", \"Topic2\", \"Topic2\", \"Topic2\", \"Topic2\", \"Topic2\", \"Topic2\", \"Topic2\", \"Topic2\", \"Topic2\", \"Topic2\", \"Topic2\", \"Topic3\", \"Topic3\", \"Topic3\", \"Topic3\", \"Topic3\", \"Topic3\", \"Topic3\", \"Topic3\", \"Topic3\", \"Topic3\", \"Topic3\", \"Topic3\", \"Topic3\", \"Topic3\", \"Topic3\", \"Topic3\", \"Topic3\", \"Topic3\", \"Topic3\", \"Topic3\", \"Topic3\", \"Topic3\", \"Topic3\", \"Topic3\", \"Topic3\", \"Topic3\", \"Topic3\", \"Topic3\", \"Topic3\", \"Topic3\", \"Topic3\", \"Topic3\", \"Topic3\", \"Topic3\", \"Topic3\", \"Topic3\", \"Topic3\", \"Topic3\", \"Topic3\", \"Topic3\", \"Topic3\", \"Topic3\", \"Topic3\", \"Topic3\", \"Topic3\", \"Topic3\", \"Topic3\", \"Topic3\", \"Topic3\", \"Topic3\", \"Topic3\", \"Topic3\", \"Topic3\", \"Topic3\", \"Topic3\", \"Topic3\", \"Topic3\", \"Topic3\", \"Topic3\", \"Topic3\", \"Topic3\", \"Topic3\", \"Topic3\", \"Topic4\", \"Topic4\", \"Topic4\", \"Topic4\", \"Topic4\", \"Topic4\", \"Topic4\", \"Topic4\", \"Topic4\", \"Topic4\", \"Topic4\", \"Topic4\", \"Topic4\", \"Topic4\", \"Topic4\", \"Topic4\", \"Topic4\", \"Topic4\", \"Topic4\", \"Topic4\", \"Topic4\", \"Topic4\", \"Topic4\", \"Topic4\", \"Topic4\", \"Topic4\", \"Topic4\", \"Topic4\", \"Topic4\", \"Topic4\", \"Topic4\", \"Topic4\", \"Topic4\", \"Topic4\", \"Topic4\", \"Topic4\", \"Topic4\", \"Topic4\", \"Topic4\", \"Topic4\", \"Topic4\", \"Topic4\", \"Topic4\", \"Topic4\", \"Topic4\", \"Topic4\", \"Topic4\", \"Topic4\", \"Topic4\", \"Topic4\", \"Topic4\", \"Topic4\", \"Topic4\", \"Topic4\", \"Topic4\", \"Topic4\", \"Topic4\", \"Topic4\", \"Topic4\", \"Topic4\", \"Topic4\", \"Topic5\", \"Topic5\", \"Topic5\", \"Topic5\", \"Topic5\", \"Topic5\", \"Topic5\", \"Topic5\", \"Topic5\", \"Topic5\", \"Topic5\", \"Topic5\", \"Topic5\", \"Topic5\", \"Topic5\", \"Topic5\", \"Topic5\", \"Topic5\", \"Topic5\", \"Topic5\", \"Topic5\", \"Topic5\", \"Topic5\", \"Topic5\", \"Topic5\", \"Topic5\", \"Topic5\", \"Topic5\", \"Topic5\", \"Topic5\", \"Topic5\", \"Topic5\", \"Topic5\", \"Topic5\", \"Topic5\", \"Topic5\", \"Topic5\", \"Topic5\", \"Topic5\", \"Topic5\", \"Topic5\", \"Topic5\", \"Topic5\", \"Topic5\", \"Topic5\", \"Topic5\", \"Topic5\", \"Topic5\", \"Topic5\", \"Topic5\", \"Topic5\", \"Topic5\", \"Topic5\", \"Topic5\", \"Topic5\", \"Topic5\", \"Topic5\", \"Topic5\", \"Topic5\", \"Topic5\", \"Topic5\", \"Topic5\", \"Topic5\", \"Topic6\", \"Topic6\", \"Topic6\", \"Topic6\", \"Topic6\", \"Topic6\", \"Topic6\", \"Topic6\", \"Topic6\", \"Topic6\", \"Topic6\", \"Topic6\", \"Topic6\", \"Topic6\", \"Topic6\", \"Topic6\", \"Topic6\", \"Topic6\", \"Topic6\", \"Topic6\", \"Topic6\", \"Topic6\", \"Topic6\", \"Topic6\", \"Topic6\", \"Topic6\", \"Topic6\", \"Topic6\", \"Topic6\", \"Topic6\", \"Topic6\", \"Topic6\", \"Topic6\", \"Topic6\", \"Topic6\", \"Topic6\", \"Topic6\", \"Topic6\", \"Topic6\", \"Topic6\", \"Topic6\", \"Topic6\", \"Topic6\", \"Topic6\", \"Topic6\", \"Topic6\", \"Topic6\", \"Topic6\", \"Topic6\", \"Topic6\", \"Topic6\", \"Topic6\", \"Topic6\"], \"logprob\": [30.0, 29.0, 28.0, 27.0, 26.0, 25.0, 24.0, 23.0, 22.0, 21.0, 20.0, 19.0, 18.0, 17.0, 16.0, 15.0, 14.0, 13.0, 12.0, 11.0, 10.0, 9.0, 8.0, 7.0, 6.0, 5.0, 4.0, 3.0, 2.0, 1.0, -2.9849, -4.1402, -4.2422, -4.3554, -4.7618, -4.7725, -4.9583, -5.0558, -5.1276, -5.2208, -5.2774, -5.3853, -5.5319, -5.9966, -6.02, -6.0538, -6.2697, -6.2658, -6.2996, -4.2641, -6.8157, -6.8569, -6.8621, -7.0656, -7.0559, -7.107, -7.1744, -7.3131, -7.3306, -7.3131, -2.0019, -4.0137, -2.6038, -2.8196, -4.9971, -3.5163, -5.3313, -3.7244, -4.8308, -5.5474, -2.8394, -4.7735, -5.1663, -4.7139, -4.718, -5.6037, -4.0427, -4.3378, -4.9153, -4.9983, -4.9371, -4.8572, -5.1719, -4.1808, -4.5819, -4.843, -4.9388, -4.9399, -5.0198, -5.0641, -5.0812, -5.1504, -5.3209, -5.4479, -5.6859, -5.6901, -5.6977, -5.8906, -5.9032, -5.9306, -5.9555, -5.9564, -5.9917, -5.9919, -6.0145, -6.0555, -6.0746, -6.0714, -6.2092, -6.2216, -6.2536, -6.2598, -6.2616, -4.1761, -4.0018, -3.6679, -4.049, -5.0482, -4.2173, -4.492, -5.2362, -4.7164, -5.4145, -5.1663, -5.3387, -3.904, -5.5121, -5.5475, -4.9625, -4.5216, -4.5167, -4.8905, -4.8141, -5.0674, -4.9165, -5.2159, -5.0344, -5.1674, -5.0195, -5.135, -3.9415, -5.0379, -5.3327, -5.4739, -5.5119, -5.5619, -5.5886, -5.6701, -5.7503, -5.7507, -5.7556, -5.7475, -5.8257, -5.8603, -5.9099, -5.9344, -5.9492, -5.9878, -6.0933, -6.0979, -6.2044, -6.223, -6.2218, -6.2564, -6.2739, -6.2742, -6.3012, -6.3427, -6.3787, -6.3805, -3.8903, -5.6561, -4.7365, -3.5948, -5.2224, -4.6113, -5.5868, -4.5131, -4.4514, -5.042, -3.5993, -4.3987, -4.3952, -4.5482, -5.0803, -4.2732, -3.7862, -4.7092, -4.6673, -5.3679, -4.8754, -5.3116, -4.2985, -4.9733, -4.8102, -4.8415, -5.1588, -5.1839, -5.2354, -5.2531, -5.2888, -5.2348, -5.2845, -3.8333, -5.0339, -5.249, -5.2555, -5.414, -5.588, -5.6198, -5.6285, -5.6442, -5.7209, -5.7557, -5.7594, -5.8992, -5.9336, -5.9527, -5.9878, -5.986, -6.008, -6.0127, -6.084, -6.1041, -6.1198, -6.1154, -6.1218, -6.1305, -6.1355, -6.1672, -6.2203, -6.2253, -6.2189, -3.9063, -4.0521, -4.7604, -5.209, -3.7279, -4.0553, -4.0208, -4.7975, -5.477, -5.3232, -3.6898, -4.4333, -4.209, -4.3254, -4.3575, -3.7234, -4.3555, -4.2021, -4.8037, -5.1213, -4.0374, -4.1212, -5.0466, -4.9551, -5.2314, -4.6663, -4.9858, -5.0576, -5.1912, -5.0199, -5.1026, -4.7843, -4.8433, -4.8717, -5.0521, -5.1487, -5.1639, -5.3935, -5.5346, -5.5879, -5.5937, -5.6092, -5.6203, -5.6892, -5.7454, -5.7756, -5.7812, -5.849, -5.9035, -5.9948, -6.0305, -6.0386, -6.0452, -6.064, -6.0818, -6.1042, -6.1163, -6.1938, -6.2131, -6.2426, -6.2829, -4.0316, -4.4237, -3.254, -4.8865, -4.1033, -5.2615, -5.2154, -5.6529, -4.7288, -4.003, -4.3365, -3.8891, -4.5843, -4.2769, -4.6182, -4.8413, -4.8331, -4.3784, -4.7291, -3.188, -4.1085, -4.6904, -5.2787, -4.2211, -5.1667, -4.7409, -4.4683, -4.3119, -4.8109, -4.7051, -4.745, -4.5472, -4.672, -2.5259, -2.7437, -3.8928, -4.0759, -4.1527, -4.4134, -4.6287, -5.0593, -5.1234, -5.1438, -5.3214, -5.3544, -5.4155, -5.4221, -5.6626, -5.6677, -5.6718, -5.7103, -5.7255, -5.7318, -5.7503, -5.7503, -5.7503, -5.7586, -5.7588, -5.7722, -5.8611, -5.9019, -6.0495, -6.065, -5.17, -4.02, -4.9756, -5.0301, -3.4469, -3.9426, -2.545, -5.215, -4.4443, -5.2116, -4.0685, -4.3225, -4.6184, -5.1143, -3.243, -4.8621, -3.613, -4.5651, -4.7078, -4.8357, -4.6948, -4.9327, -5.1343], \"loglift\": [30.0, 29.0, 28.0, 27.0, 26.0, 25.0, 24.0, 23.0, 22.0, 21.0, 20.0, 19.0, 18.0, 17.0, 16.0, 15.0, 14.0, 13.0, 12.0, 11.0, 10.0, 9.0, 8.0, 7.0, 6.0, 5.0, 4.0, 3.0, 2.0, 1.0, 1.0517, 1.0508, 1.0507, 1.0505, 1.0497, 1.0497, 1.0492, 1.0489, 1.0486, 1.0482, 1.0481, 1.0476, 1.0469, 1.0438, 1.0436, 1.0433, 1.0412, 1.0411, 1.0409, 1.0349, 1.0333, 1.0325, 1.0322, 1.028, 1.0279, 1.0264, 1.0253, 1.0214, 1.0208, 1.0205, 0.9957, 0.9887, 0.965, 0.9075, 0.9514, 0.8808, 0.9557, 0.871, 0.92, 0.963, 0.7429, 0.8775, 0.9075, 0.791, 0.727, 0.9263, 0.1993, 0.3326, 0.6006, 0.5923, 0.4776, 0.3453, 0.4228, 1.6671, 1.666, 1.665, 1.6646, 1.6646, 1.6642, 1.6639, 1.6638, 1.6634, 1.6623, 1.6613, 1.6592, 1.6592, 1.6591, 1.6569, 1.6567, 1.6564, 1.6561, 1.6561, 1.6555, 1.6555, 1.6553, 1.6546, 1.6544, 1.6544, 1.6522, 1.6517, 1.6515, 1.6514, 1.6513, 1.6051, 1.5743, 1.5491, 1.4405, 1.4934, 1.3233, 1.282, 1.4334, 1.2801, 1.4716, 1.3508, 1.4048, 0.7664, 1.4633, 1.4759, 1.0426, 0.6809, 0.4172, 0.7343, 0.4838, 0.8004, 0.1663, 0.8172, -0.1173, 0.5335, -0.7775, -2.1373, 1.7988, 1.7946, 1.7924, 1.7913, 1.791, 1.7904, 1.7902, 1.7892, 1.7883, 1.7883, 1.7882, 1.7881, 1.7871, 1.7869, 1.7858, 1.7853, 1.7852, 1.785, 1.7832, 1.7831, 1.7812, 1.7808, 1.7807, 1.7802, 1.7798, 1.7798, 1.779, 1.7783, 1.7774, 1.7774, 1.7601, 1.7635, 1.711, 1.6377, 1.6815, 1.6127, 1.711, 1.579, 1.4896, 1.5847, 1.3179, 1.463, 1.4482, 1.4387, 1.5536, 1.2995, 1.1476, 1.3934, 1.3112, 1.605, 1.3473, 1.5181, 0.7843, 0.5673, 0.2722, 0.222, 0.7401, 0.7377, 0.4655, 0.2628, 0.579, -2.2372, -1.7157, 2.1748, 2.1682, 2.1659, 2.1659, 2.1639, 2.1613, 2.1607, 2.1606, 2.1603, 2.1589, 2.1583, 2.1582, 2.1554, 2.1546, 2.154, 2.1533, 2.1532, 2.1528, 2.1527, 2.1508, 2.1504, 2.1499, 2.1499, 2.1498, 2.1495, 2.1494, 2.1485, 2.1469, 2.1469, 2.1468, 2.0556, 2.0556, 1.9621, 2.0147, 1.7903, 1.7956, 1.7875, 1.8811, 2.0108, 1.9691, 1.5371, 1.6745, 1.6036, 1.6201, 1.6303, 1.3401, 1.5523, 1.4686, 1.7138, 1.7921, 1.1362, 1.1767, 1.5507, 1.4333, 1.7102, 0.4161, 0.8587, 0.8639, 1.325, -0.4245, -0.1855, 2.3478, 2.3472, 2.347, 2.3452, 2.3441, 2.3438, 2.3407, 2.3381, 2.3373, 2.3372, 2.3369, 2.3367, 2.3353, 2.334, 2.3335, 2.3332, 2.3317, 2.3302, 2.3277, 2.3269, 2.3266, 2.3264, 2.326, 2.3254, 2.3245, 2.3243, 2.3218, 2.3211, 2.3198, 2.3185, 2.242, 2.2149, 1.9196, 2.1268, 1.9233, 2.1511, 2.1284, 2.2302, 1.9191, 1.5917, 1.712, 1.5256, 1.7236, 1.5676, 1.6362, 1.7389, 1.7173, 1.3994, 1.6155, 0.3943, 0.9743, 1.3658, 1.9928, 0.7127, 1.8255, 1.1581, 0.6141, 0.0852, 1.1676, 0.8675, 0.9559, 0.1233, 0.2451, 2.4157, 2.4154, 2.4128, 2.412, 2.4117, 2.4102, 2.4087, 2.4043, 2.4035, 2.4033, 2.4007, 2.4001, 2.3992, 2.3991, 2.3943, 2.3943, 2.3941, 2.3932, 2.3929, 2.3926, 2.3924, 2.3924, 2.3924, 2.3921, 2.3921, 2.3917, 2.3892, 2.3882, 2.3839, 2.3835, 2.326, 2.1894, 2.2674, 2.2737, 2.0042, 2.024, 1.697, 2.2625, 1.969, 2.1866, 1.7094, 1.6773, 1.8032, 2.0033, 0.3393, 1.6963, 0.1141, 0.9397, 1.16, 1.285, 0.8958, 0.1497, 0.9683]}, \"token.table\": {\"Topic\": [2, 3, 6, 2, 3, 5, 2, 6, 2, 1, 2, 5, 2, 3, 5, 5, 2, 3, 3, 5, 6, 5, 1, 4, 6, 3, 1, 3, 4, 1, 6, 3, 5, 1, 4, 5, 1, 4, 1, 1, 1, 2, 3, 4, 3, 2, 4, 1, 2, 3, 3, 5, 1, 6, 1, 6, 1, 1, 4, 6, 2, 3, 4, 1, 2, 4, 6, 1, 4, 2, 3, 2, 3, 4, 5, 3, 4, 2, 5, 1, 4, 4, 1, 1, 2, 5, 5, 1, 1, 2, 3, 4, 2, 1, 4, 6, 2, 5, 3, 5, 1, 3, 4, 1, 4, 1, 3, 2, 3, 5, 5, 6, 2, 4, 6, 6, 1, 3, 4, 1, 3, 3, 1, 5, 4, 1, 6, 2, 3, 4, 5, 3, 5, 4, 5, 2, 3, 2, 2, 3, 5, 6, 6, 6, 2, 1, 6, 1, 2, 3, 5, 2, 2, 3, 1, 3, 5, 6, 2, 6, 3, 6, 3, 1, 2, 3, 4, 5, 4, 3, 1, 3, 4, 5, 2, 3, 5, 2, 4, 5, 1, 2, 6, 6, 4, 1, 2, 3, 6, 2, 4, 2, 3, 4, 6, 3, 2, 2, 1, 1, 2, 3, 5, 6, 1, 2, 5, 5, 2, 4, 2, 3, 6, 1, 6, 1, 3, 4, 1, 6, 3, 3, 2, 2, 3, 4, 2, 6, 3, 4, 5, 3, 5, 4, 6, 2, 2, 3, 2, 3, 1, 3, 4, 6, 2, 3, 4, 5, 3, 2, 3, 4, 5, 6, 1, 2, 6, 1, 1, 2, 6, 6, 3, 4, 5, 3, 6, 1, 4, 3, 3, 4, 2, 3, 5, 1, 5, 1, 3, 4, 2, 3, 1, 2, 3, 1, 2, 3, 6, 4, 4, 4, 1, 4, 5, 2, 3, 4, 1, 2, 6, 5, 1, 6, 3, 3, 4, 2, 6, 3, 5, 6, 6, 2, 4, 5, 3, 5, 1, 6, 1, 4, 1, 2, 3, 2, 5, 2, 3, 6, 3, 1, 4, 1, 2, 4, 4, 1, 3, 5, 1, 2, 5, 3, 2, 4, 1, 2, 5, 3, 5, 1, 2, 4, 2, 4, 3, 1, 5, 6, 4, 4, 6, 1, 2, 3, 5, 1, 3, 1, 2, 2, 1, 6, 5, 3, 4, 6, 3, 5, 5, 5, 6, 5, 3, 5, 1, 2, 3, 5, 3, 6, 3, 5, 4, 4, 5, 2, 3, 2, 3, 3, 4, 5, 2, 6, 1, 2, 3, 3, 4, 3, 4, 5, 2, 3, 4, 6, 2, 5, 5, 3, 5, 5, 1, 3, 6, 2, 3, 1, 3, 4, 5, 4, 4, 5, 5, 1, 1, 2, 3, 4, 3, 2, 3, 4, 2, 2, 2, 1, 5, 4, 1, 2, 3, 4, 5, 5, 4, 1, 2, 3, 4, 5, 3, 3, 3, 4, 2, 5, 1, 1, 6, 4, 2, 3, 5, 3, 5, 1, 1, 2, 3, 4, 5, 6, 1, 2, 3, 5, 6, 2, 3, 3, 1, 1, 2, 3, 4, 1, 2, 4, 2, 5, 3, 1, 4, 3, 4, 1, 2, 3, 4, 1, 4, 3, 4, 6, 6, 1, 5, 2, 3], \"Freq\": [0.09785898079129919, 0.6648654283173563, 0.23601283602607454, 0.8129425328180689, 0.1791229309599135, 0.985456076302755, 0.9806586049786074, 0.976983307803003, 0.9972153920405539, 0.7217014847885493, 0.1640230647246703, 0.11332502653704493, 0.3498236189265332, 0.34512799988053944, 0.30286742846659587, 0.982063884392963, 0.2644632880818873, 0.7321715105230028, 0.12064695836757916, 0.3848221947931404, 0.4929884333295907, 0.9767601162807485, 0.4625517015296839, 0.5333504313556559, 0.9883933644221327, 0.9812758495042905, 0.09098932392782778, 0.8286527714855744, 0.07799084908099524, 0.9386743813813464, 0.06034335308880084, 0.29643115853511426, 0.6947605278166741, 0.9982643693928459, 0.35236796266872433, 0.6456290412768885, 0.9885315037834308, 0.9786118969341984, 0.999500759275662, 0.9794739170253381, 0.8345759689768619, 0.06694459644199427, 0.02422756823615031, 0.07395783987877462, 0.9663709752315093, 0.3663069497150573, 0.6260518776948252, 0.998961795002767, 0.9370694184931024, 0.06052341455746096, 0.1278970727195355, 0.8657647999476248, 0.965441085419829, 0.9618018995276365, 0.33603855017723655, 0.6615758956614345, 0.9962384851046963, 0.9975734028081616, 0.13658664359340655, 0.853666522458791, 0.21705381153135098, 0.0984573990451489, 0.6824887888356912, 0.08809565075484364, 0.1953425299346533, 0.47495046493915705, 0.23747523246957852, 0.4255240685673307, 0.5731046703825899, 0.995753648448939, 0.9851525565164582, 0.6781780778730667, 0.1346002291961812, 0.18636954811778933, 0.9857164643281646, 0.966715937505598, 0.03222386458351994, 0.10245293797031019, 0.887925462409355, 0.36609456091742326, 0.6275906758584399, 0.9814857427634616, 0.9818503271073539, 0.1484282223155482, 0.3180604763904604, 0.5301007939841007, 0.9496066161723575, 0.9971407818190394, 0.8765543960096851, 0.06680437660120002, 0.056682501358593956, 0.993816654371541, 0.9885700860258583, 0.32203514241201986, 0.19997343520746394, 0.47785859841783596, 0.9888508243195495, 0.9766654413284519, 0.9909857690420782, 0.9678573968075661, 0.0760768029982496, 0.9129216359789953, 0.9729060222842401, 0.17968343654589392, 0.8133039759445725, 0.8825686448371789, 0.11473392382883325, 0.08135268937682216, 0.6126874418691919, 0.3050725851630831, 0.08116265055849319, 0.915978484874423, 0.7648413668882162, 0.22945241006646486, 0.9752565920752593, 0.9790745042607412, 0.34531443199691025, 0.1270948951099739, 0.527563715550835, 0.9131176944879142, 0.0822238682240302, 0.9835305925330439, 0.9970359940081979, 0.9641989222328521, 0.982310062956194, 0.7693993936874781, 0.22797019072221575, 0.16712039285808236, 0.6165862915448197, 0.09411516860955166, 0.12138218007587036, 0.19915849483868409, 0.7966339793547363, 0.9900034664296641, 0.9804410210884543, 0.8392917727230951, 0.15625112790057621, 0.996400142218731, 0.24414800865929884, 0.7562633438958769, 0.9800856382239553, 0.9748739635975769, 0.9983071636774012, 0.9978343891278463, 0.9923861878917777, 0.9980539481572281, 0.9895041419213593, 0.130541851855716, 0.6796464668043627, 0.10774883010313067, 0.08288371546394668, 0.9928195855631954, 0.9845591247876617, 0.9754901415286753, 0.8392410684411181, 0.1594191549222211, 0.9909715186528415, 0.9884891361643151, 0.1350488828621799, 0.8643128503179514, 0.12437450647853544, 0.8706215453497481, 0.9921601742128296, 0.140591012657707, 0.321626015258042, 0.2638488867685734, 0.026962659961752025, 0.2465157482217328, 0.9697283347633007, 0.9891819474711618, 0.27861970050288093, 0.12831170417895832, 0.11731355810647617, 0.47658632980755944, 0.28619789462578116, 0.5205224208506395, 0.19318357887240228, 0.27792555670822294, 0.266808534439894, 0.4535745085478198, 0.1952215868886978, 0.31326254640279416, 0.4857839487695504, 0.9878319314123457, 0.9650127587736215, 0.9980111054770265, 0.418762529797789, 0.29358894752127596, 0.2844854142648023, 0.9851408300468276, 0.9683818778293025, 0.13954751024868736, 0.8002622526506357, 0.05695816744844382, 0.978097022488151, 0.983811641950099, 0.9891778106454706, 0.9887920353392058, 0.9842532884433529, 0.945164315699589, 0.022190589994584946, 0.017675062960803126, 0.004773557149997924, 0.010192189590536109, 0.487261889913729, 0.405478864667278, 0.10721136082728029, 0.9683343761664207, 0.8239793134037924, 0.17346932913764052, 0.3025112227131038, 0.697314004898002, 0.9986990553927615, 0.9981188946559617, 0.988671460532382, 0.3842377207024279, 0.3458139486321851, 0.26896640449169956, 0.9924100850302435, 0.9740040662314198, 0.9883596631391064, 0.9942750682342879, 0.9834437720895667, 0.9870494453243571, 0.9723590778120124, 0.9698090065344318, 0.19977691200390157, 0.7991076480156063, 0.2285660835424458, 0.6046874868401414, 0.1649147691382204, 0.10585540667721875, 0.8912342304114224, 0.9871704659453513, 0.994360379108595, 0.9858407366604531, 0.8867856666052503, 0.11277729361110947, 0.8190379167951806, 0.17640816669434659, 0.15606726329557993, 0.7124809846102562, 0.12892513054852256, 0.9925132419500967, 0.36002989994517726, 0.04500373749314716, 0.5353076143921714, 0.05921544406993047, 0.9826216212730801, 0.13187472621386642, 0.2168606608850248, 0.13773582515670493, 0.1904857156422515, 0.32236044185611795, 0.5229583563314677, 0.3926649774502488, 0.08388751790982588, 0.993194322922855, 0.6312952795847244, 0.14833714219750357, 0.21905601231491806, 0.9956219083578287, 0.3162749757850815, 0.1554109794806004, 0.5262161235044891, 0.9838480982533685, 0.9790716510229314, 0.9695421475644467, 0.9977401750839886, 0.9921822637970513, 0.3172990060682775, 0.6799264415748804, 0.5351712132932757, 0.3289345018290377, 0.135750746786587, 0.5627487935684247, 0.43544315389227717, 0.28718530518560303, 0.033692130775964606, 0.6786557770587156, 0.29539095901598134, 0.7018311507447376, 0.4295741679450933, 0.42688932939543645, 0.14229644313181217, 0.49375844442002365, 0.37207389887575243, 0.13338498261583576, 0.9801710920696557, 0.9721415613685156, 0.9858274237908167, 0.9746173247215029, 0.07005712057710013, 0.33627417877008065, 0.5884798128476411, 0.7951357386550721, 0.1637044167819266, 0.03897724209093491, 0.4262809456116241, 0.08642040178891118, 0.4867304494536086, 0.9846861684117308, 0.20176511561781027, 0.7974525998227738, 0.9774159845252205, 0.9861353681437711, 0.9852047336007905, 0.7915020562271402, 0.20802297631610736, 0.39992607899665117, 0.05543529807874373, 0.5424739883419922, 0.9943149789723807, 0.25340568728596047, 0.09602741833994291, 0.6481850737946147, 0.20034005796230944, 0.7942052297791553, 0.9650356329559333, 0.9818979906851125, 0.9054128729141918, 0.09374847185487545, 0.964520811100185, 0.9972386014426455, 0.9912395968184491, 0.9934524194224208, 0.9743774988760393, 0.12560048485745665, 0.19593675637763236, 0.6757306085331167, 0.9924454246218763, 0.14128944771402854, 0.8477366862841713, 0.26488827289115185, 0.17013149234472355, 0.5642335568900958, 0.9759924206780001, 0.10903946118779409, 0.8851438614067991, 0.9805151113066713, 0.3450387318000582, 0.16749453000002823, 0.4857341370000819, 0.9721571713257486, 0.991162703961251, 0.9724492515553635, 0.8423888903942849, 0.05385850757952287, 0.10301093197248548, 0.9595025083675828, 0.03845334480099091, 0.23939480159774773, 0.33080008948052414, 0.42655801011962324, 0.11250884711620436, 0.8850695973141409, 0.9786402752327147, 0.7340863734591094, 0.1405204757772562, 0.12524147841103067, 0.98022110870459, 0.9820821225411575, 0.9613560289482296, 0.9165743805604418, 0.034260193641681105, 0.029692167822790293, 0.01941410973028596, 0.9832625484764604, 0.015464155415095052, 0.9842350460518373, 0.9951833088474584, 0.9794084014551167, 0.9962384253347079, 0.9910387713379434, 0.9637347713426428, 0.19060670590789658, 0.14295502943092245, 0.6591815245981424, 0.7785010826508352, 0.2154342618656399, 0.9834810148932771, 0.9873636714417968, 0.9740040662314198, 0.9542153012097737, 0.9747197267789903, 0.9911231091853278, 0.1640109127529542, 0.22214136284260885, 0.3622772693087406, 0.2512065878874362, 0.35734397921165684, 0.6400776770494512, 0.3525119241698924, 0.6454443681983946, 0.9653954184763969, 0.969245975926404, 0.9603616201966166, 0.9095030576009836, 0.09010030290252735, 0.08127022311658355, 0.914290010061565, 0.05568115247901631, 0.3990482594329502, 0.538251140630491, 0.9774658283988704, 0.9841026220422202, 0.9924839784586877, 0.9847745137077631, 0.9872090953109584, 0.9899429711608787, 0.9708957152764119, 0.11281504020950099, 0.885164161643777, 0.9698306861631361, 0.727495564711857, 0.07841269559768518, 0.19167547812767488, 0.9820585150132443, 0.9900556262574942, 0.9851133215385439, 0.992891981878818, 0.18133700646127213, 0.8106830877092165, 0.9795038235548292, 0.8653626615146068, 0.03451817666523942, 0.10007595405270964, 0.9973160139581684, 0.9903226340940675, 0.22068975864100096, 0.1531316692611027, 0.0990851977571841, 0.5269530971632064, 0.9737076555890293, 0.9792661058548882, 0.9455485483818772, 0.9741282206418889, 0.9978872726851428, 0.9960284562985146, 0.9910896203163316, 0.1494928435615167, 0.850959263350172, 0.9940909416467434, 0.7072107700443662, 0.29207312544755726, 0.9861636295414996, 0.9951885802403218, 0.9905530570434693, 0.9921151151165959, 0.8640415532223246, 0.131423796121195, 0.9836279595516279, 0.09910813796786926, 0.3050471259530521, 0.13514746086527626, 0.36811594102351436, 0.0926725445933323, 0.9723885007534512, 0.9737817243045722, 0.12931664314394814, 0.13542609085153623, 0.2067029807733974, 0.4327525459541572, 0.09571468075221358, 0.9859334774076672, 0.9940809156134578, 0.8246245617980479, 0.17179678370792664, 0.9936066111111177, 0.9657373356861675, 0.9924563755821639, 0.9808823896449236, 0.9740040662314198, 0.9706774462269628, 0.16771724513460243, 0.6064926642241179, 0.22531710710002145, 0.8069321607609466, 0.18958044740769228, 0.9736831928729058, 0.17121238759134277, 0.16083587925247353, 0.2168690242823675, 0.1722500384252297, 0.17536299092689048, 0.10376508338869259, 0.04945808984738506, 0.25828113586967755, 0.31872991234981485, 0.370935673855388, 0.9722655505665926, 0.36348364762866675, 0.6360963833501668, 0.9976998414233886, 0.9881359526646407, 0.18686365953649278, 0.13827910805700466, 0.18312638634576292, 0.49145142458097596, 0.3258622839586791, 0.09493625595646556, 0.5773150700055338, 0.9806328128130547, 0.9823553144638734, 0.9845506590890346, 0.2508906458154797, 0.7424315029233582, 0.18724491670995067, 0.8078280692343586, 0.6370727945007552, 0.14726305802530018, 0.21449184538467636, 0.9863048779736671, 0.9067194356252825, 0.08997979132159292, 0.16511270445756743, 0.6776053845271598, 0.15653542110912236, 0.9722402331384102, 0.5334297287813143, 0.4658850553317323, 0.14950433697366458, 0.8500044965034962], \"Term\": [\"able\", \"able\", \"able\", \"access\", \"access\", \"address\", \"airdope\", \"airpod\", \"alexa\", \"amazing\", \"amazing\", \"amazing\", \"amazon\", \"amazon\", \"amazon\", \"answer\", \"app\", \"app\", \"apple\", \"apple\", \"apple\", \"area\", \"audio\", \"audio\", \"audiophile\", \"auto\", \"available\", \"available\", \"available\", \"awesome\", \"awesome\", \"background\", \"background\", \"backup\", \"bad\", \"bad\", \"balanced\", \"band\", \"bass\", \"basshead\", \"battery\", \"battery\", \"battery\", \"battery\", \"bed\", \"black\", \"black\", \"boat\", \"book\", \"book\", \"box\", \"box\", \"boy\", \"brain\", \"bud\", \"bud\", \"budget\", \"build\", \"bullet\", \"bullet\", \"button\", \"button\", \"button\", \"cable\", \"cable\", \"cable\", \"cable\", \"call\", \"call\", \"camera\", \"capacity\", \"case\", \"case\", \"case\", \"casual\", \"category\", \"category\", \"channel\", \"channel\", \"charge\", \"charge\", \"charger\", \"charging\", \"cheap\", \"cheap\", \"cheap\", \"chromecast\", \"clarity\", \"clear\", \"clear\", \"clear\", \"colour\", \"comcast\", \"comfortable\", \"comfortable\", \"comfortable\", \"command\", \"comment\", \"common\", \"compact\", \"complaint\", \"complaint\", \"complete\", \"con\", \"con\", \"connectivity\", \"connectivity\", \"content\", \"content\", \"content\", \"cord\", \"cord\", \"cover\", \"cover\", \"crazy\", \"damage\", \"day\", \"day\", \"day\", \"decent\", \"decent\", \"deep\", \"delivery\", \"demand\", \"description\", \"design\", \"design\", \"device\", \"device\", \"device\", \"device\", \"difference\", \"difference\", \"different\", \"disconnect\", \"display\", \"display\", \"dot\", \"download\", \"download\", \"dozen\", \"driver\", \"ear\", \"earbud\", \"early\", \"earphone\", \"earpod\", \"easy\", \"easy\", \"easy\", \"easy\", \"echo\", \"edge\", \"email\", \"excellent\", \"excellent\", \"expensive\", \"fabulous\", \"fall\", \"fall\", \"far\", \"far\", \"favorite\", \"feature\", \"feature\", \"feature\", \"feature\", \"feature\", \"feel\", \"feeling\", \"fine\", \"fine\", \"fine\", \"fine\", \"fire\", \"fire\", \"fire\", \"first\", \"first\", \"first\", \"fit\", \"fit\", \"fit\", \"flat\", \"flexible\", \"flipkart\", \"free\", \"free\", \"free\", \"fun\", \"future\", \"game\", \"game\", \"game\", \"get\", \"ghz\", \"gift\", \"gig\", \"go\", \"good\", \"good\", \"good\", \"good\", \"good\", \"great\", \"great\", \"great\", \"half\", \"hand\", \"hand\", \"hdx\", \"hdx\", \"headphone\", \"headset\", \"hear\", \"hour\", \"hour\", \"hour\", \"hrs\", \"ignorance\", \"image\", \"improvement\", \"inch\", \"ink\", \"instant\", \"interesting\", \"iphone\", \"iphone\", \"issue\", \"issue\", \"issue\", \"item\", \"item\", \"jack\", \"jbl\", \"keyboard\", \"kindle\", \"kindle\", \"large\", \"large\", \"last\", \"last\", \"last\", \"latency\", \"light\", \"light\", \"light\", \"light\", \"limitation\", \"lot\", \"lot\", \"lot\", \"lot\", \"lot\", \"love\", \"love\", \"love\", \"lover\", \"low\", \"low\", \"low\", \"magnet\", \"many\", \"many\", \"many\", \"member\", \"metal\", \"mi\", \"mic\", \"min\", \"minute\", \"minute\", \"model\", \"model\", \"model\", \"money\", \"money\", \"month\", \"month\", \"month\", \"movie\", \"movie\", \"much\", \"much\", \"much\", \"music\", \"music\", \"music\", \"musician\", \"nd\", \"neck\", \"neckband\", \"need\", \"need\", \"need\", \"new\", \"new\", \"new\", \"nice\", \"nice\", \"nice\", \"niche\", \"noise\", \"noise\", \"notch\", \"offering\", \"ok\", \"old\", \"old\", \"one\", \"one\", \"one\", \"oneplus\", \"option\", \"option\", \"option\", \"original\", \"original\", \"output\", \"outside\", \"overall\", \"overall\", \"packaging\", \"page\", \"pair\", \"paperwhite\", \"penny\", \"people\", \"people\", \"people\", \"period\", \"person\", \"person\", \"phone\", \"phone\", \"phone\", \"place\", \"play\", \"play\", \"pleasant\", \"point\", \"point\", \"point\", \"popular\", \"portable\", \"press\", \"price\", \"price\", \"price\", \"prime\", \"prime\", \"pro\", \"pro\", \"pro\", \"problem\", \"problem\", \"processor\", \"product\", \"product\", \"product\", \"proper\", \"pubg\", \"public\", \"quality\", \"quality\", \"quality\", \"quality\", \"range\", \"range\", \"rate\", \"reader\", \"reading\", \"realme\", \"reasonable\", \"refund\", \"regular\", \"regular\", \"regular\", \"remote\", \"remote\", \"replace\", \"replacement\", \"represent\", \"respond\", \"result\", \"return\", \"review\", \"review\", \"review\", \"review\", \"right\", \"right\", \"roku\", \"roku\", \"rubber\", \"rupee\", \"scratch\", \"screen\", \"screen\", \"search\", \"search\", \"second\", \"second\", \"second\", \"secondary\", \"secure\", \"segment\", \"series\", \"setting\", \"setup\", \"shape\", \"side\", \"side\", \"site\", \"size\", \"size\", \"size\", \"skullcandy\", \"sling\", \"slow\", \"smart\", \"smartphone\", \"smartphone\", \"solid\", \"sound\", \"sound\", \"sound\", \"speaker\", \"specific\", \"star\", \"star\", \"star\", \"star\", \"step\", \"stylish\", \"suggestion\", \"summary\", \"super\", \"superb\", \"surprised\", \"switch\", \"switch\", \"system\", \"tablet\", \"tablet\", \"talk\", \"tap\", \"tech\", \"technology\", \"thank\", \"thank\", \"thin\", \"thing\", \"thing\", \"thing\", \"thing\", \"thing\", \"third\", \"thought\", \"time\", \"time\", \"time\", \"time\", \"time\", \"tinny\", \"title\", \"top\", \"top\", \"touch\", \"tough\", \"treble\", \"trust\", \"tug\", \"turn\", \"tv\", \"tv\", \"tv\", \"update\", \"update\", \"upto\", \"use\", \"use\", \"use\", \"use\", \"use\", \"use\", \"user\", \"user\", \"user\", \"user\", \"validity\", \"version\", \"version\", \"video\", \"vocal\", \"voice\", \"voice\", \"voice\", \"voice\", \"volume\", \"volume\", \"volume\", \"voyage\", \"waste\", \"watch\", \"week\", \"week\", \"weight\", \"weight\", \"well\", \"well\", \"well\", \"whole\", \"wire\", \"wire\", \"work\", \"work\", \"work\", \"working\", \"worth\", \"worth\", \"year\", \"year\"]}, \"R\": 30, \"lambda.step\": 0.01, \"plot.opts\": {\"xlab\": \"PC1\", \"ylab\": \"PC2\"}, \"topic.order\": [4, 5, 6, 3, 2, 1]};\n",
       "\n",
       "function LDAvis_load_lib(url, callback){\n",
       "  var s = document.createElement('script');\n",
       "  s.src = url;\n",
       "  s.async = true;\n",
       "  s.onreadystatechange = s.onload = callback;\n",
       "  s.onerror = function(){console.warn(\"failed to load library \" + url);};\n",
       "  document.getElementsByTagName(\"head\")[0].appendChild(s);\n",
       "}\n",
       "\n",
       "if(typeof(LDAvis) !== \"undefined\"){\n",
       "   // already loaded: just create the visualization\n",
       "   !function(LDAvis){\n",
       "       new LDAvis(\"#\" + \"ldavis_el29483099080202880114207100\", ldavis_el29483099080202880114207100_data);\n",
       "   }(LDAvis);\n",
       "}else if(typeof define === \"function\" && define.amd){\n",
       "   // require.js is available: use it to load d3/LDAvis\n",
       "   require.config({paths: {d3: \"https://d3js.org/d3.v5\"}});\n",
       "   require([\"d3\"], function(d3){\n",
       "      window.d3 = d3;\n",
       "      LDAvis_load_lib(\"https://cdn.jsdelivr.net/gh/bmabey/pyLDAvis@3.4.0/pyLDAvis/js/ldavis.v3.0.0.js\", function(){\n",
       "        new LDAvis(\"#\" + \"ldavis_el29483099080202880114207100\", ldavis_el29483099080202880114207100_data);\n",
       "      });\n",
       "    });\n",
       "}else{\n",
       "    // require.js not available: dynamically load d3 & LDAvis\n",
       "    LDAvis_load_lib(\"https://d3js.org/d3.v5.js\", function(){\n",
       "         LDAvis_load_lib(\"https://cdn.jsdelivr.net/gh/bmabey/pyLDAvis@3.4.0/pyLDAvis/js/ldavis.v3.0.0.js\", function(){\n",
       "                 new LDAvis(\"#\" + \"ldavis_el29483099080202880114207100\", ldavis_el29483099080202880114207100_data);\n",
       "            })\n",
       "         });\n",
       "}\n",
       "</script>"
      ],
      "text/plain": [
       "PreparedData(topic_coordinates=              x         y  topics  cluster       Freq\n",
       "topic                                                \n",
       "3     -0.186079  0.110443       1        1  34.919565\n",
       "4      0.105277 -0.154197       2        1  18.835807\n",
       "5      0.158615 -0.139818       3        1  16.516074\n",
       "2      0.151389  0.271634       4        1  11.330224\n",
       "1      0.074550 -0.023552       5        1   9.476344\n",
       "0     -0.303750 -0.064510       6        1   8.921986, topic_info=           Term         Freq        Total Category  logprob  loglift\n",
       "126        good  7751.000000  7751.000000  Default  30.0000  30.0000\n",
       "255        nice  2233.000000  2233.000000  Default  29.0000  29.0000\n",
       "401     product  4319.000000  4319.000000  Default  28.0000  28.0000\n",
       "2523       bass  2742.000000  2742.000000  Default  27.0000  27.0000\n",
       "552   headphone  1109.000000  1109.000000  Default  26.0000  26.0000\n",
       "...         ...          ...          ...      ...      ...      ...\n",
       "346        free   125.058520   439.389838   Topic6  -4.7078   1.1600\n",
       "373         lot   110.046674   341.232936   Topic6  -4.8357   1.2850\n",
       "1026        low   126.698679   579.760394   Topic6  -4.6948   0.8958\n",
       "50          use    99.871081   963.715315   Topic6  -4.9327   0.1497\n",
       "261        able    81.635476   347.438730   Topic6  -5.1343   0.9683\n",
       "\n",
       "[380 rows x 6 columns], token_table=      Topic      Freq     Term\n",
       "term                          \n",
       "261       2  0.097859     able\n",
       "261       3  0.664865     able\n",
       "261       6  0.236013     able\n",
       "262       2  0.812943   access\n",
       "262       3  0.179123   access\n",
       "...     ...       ...      ...\n",
       "1388      6  0.972240  working\n",
       "214       1  0.533430    worth\n",
       "214       5  0.465885    worth\n",
       "98        2  0.149504     year\n",
       "98        3  0.850004     year\n",
       "\n",
       "[523 rows x 3 columns], R=30, lambda_step=0.01, plot_opts={'xlab': 'PC1', 'ylab': 'PC2'}, topic_order=[4, 5, 6, 3, 2, 1])"
      ]
     },
     "execution_count": 22,
     "metadata": {},
     "output_type": "execute_result"
    }
   ],
   "source": [
    "# visualize the topics\n",
    "pyLDAvis.enable_notebook()\n",
    "vis = pyLDAvis.gensim.prepare(lda_model, corpus, id2word)\n",
    "vis"
   ]
  }
 ],
 "metadata": {
  "kernelspec": {
   "display_name": "Python 3 (ipykernel)",
   "language": "python",
   "name": "python3"
  },
  "language_info": {
   "codemirror_mode": {
    "name": "ipython",
    "version": 3
   },
   "file_extension": ".py",
   "mimetype": "text/x-python",
   "name": "python",
   "nbconvert_exporter": "python",
   "pygments_lexer": "ipython3",
   "version": "3.11.8"
  },
  "papermill": {
   "default_parameters": {},
   "duration": 314.46052,
   "end_time": "2022-11-10T05:10:05.298315",
   "environment_variables": {},
   "exception": null,
   "input_path": "__notebook__.ipynb",
   "output_path": "__notebook__.ipynb",
   "parameters": {},
   "start_time": "2022-11-10T05:04:50.837795",
   "version": "2.3.4"
  }
 },
 "nbformat": 4,
 "nbformat_minor": 5
}
